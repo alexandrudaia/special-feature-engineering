{
 "cells": [
  {
   "cell_type": "code",
   "execution_count": 3,
   "id": "182d0ab6",
   "metadata": {},
   "outputs": [],
   "source": [
    "import numpy as np\n",
    "import pandas as pd\n",
    "from sklearn.linear_model import LogisticRegression\n",
    "import xgboost as xgb\n",
    "import matplotlib \n",
    "from matplotlib import pyplot as plt\n",
    "from sklearn.metrics import mean_squared_error\n"
   ]
  },
  {
   "cell_type": "code",
   "execution_count": 9,
   "id": "0147f608",
   "metadata": {},
   "outputs": [
    {
     "name": "stdout",
     "output_type": "stream",
     "text": [
      " Volume in drive C has no label.\n",
      " Volume Serial Number is 8ABE-6AA5\n",
      "\n",
      " Directory of C:\\Users\\AlexandruDaia\\Downloads\\restaurant\\train.csv\n",
      "\n",
      "12/16/2024  02:38 PM    <DIR>          .\n",
      "12/16/2024  02:38 PM    <DIR>          ..\n",
      "12/16/2024  02:38 PM            18,885 train.csv\n",
      "               1 File(s)         18,885 bytes\n",
      "               2 Dir(s)  17,568,772,096 bytes free\n"
     ]
    }
   ],
   "source": [
    "ls C:\\Users\\AlexandruDaia\\Downloads\\restaurant\\train.csv"
   ]
  },
  {
   "cell_type": "code",
   "execution_count": 259,
   "id": "c11d23db",
   "metadata": {},
   "outputs": [],
   "source": [
    "train=pd.read_csv('C:\\\\Users\\\\AlexandruDaia\\\\Downloads\\\\restaurant\\\\train.csv\\\\train.csv')"
   ]
  },
  {
   "cell_type": "code",
   "execution_count": 260,
   "id": "73b72523",
   "metadata": {},
   "outputs": [
    {
     "data": {
      "text/html": [
       "<div>\n",
       "<style scoped>\n",
       "    .dataframe tbody tr th:only-of-type {\n",
       "        vertical-align: middle;\n",
       "    }\n",
       "\n",
       "    .dataframe tbody tr th {\n",
       "        vertical-align: top;\n",
       "    }\n",
       "\n",
       "    .dataframe thead th {\n",
       "        text-align: right;\n",
       "    }\n",
       "</style>\n",
       "<table border=\"1\" class=\"dataframe\">\n",
       "  <thead>\n",
       "    <tr style=\"text-align: right;\">\n",
       "      <th></th>\n",
       "      <th>Id</th>\n",
       "      <th>Open Date</th>\n",
       "      <th>City</th>\n",
       "      <th>City Group</th>\n",
       "      <th>Type</th>\n",
       "      <th>P1</th>\n",
       "      <th>P2</th>\n",
       "      <th>P3</th>\n",
       "      <th>P4</th>\n",
       "      <th>P5</th>\n",
       "      <th>...</th>\n",
       "      <th>P29</th>\n",
       "      <th>P30</th>\n",
       "      <th>P31</th>\n",
       "      <th>P32</th>\n",
       "      <th>P33</th>\n",
       "      <th>P34</th>\n",
       "      <th>P35</th>\n",
       "      <th>P36</th>\n",
       "      <th>P37</th>\n",
       "      <th>revenue</th>\n",
       "    </tr>\n",
       "  </thead>\n",
       "  <tbody>\n",
       "    <tr>\n",
       "      <th>0</th>\n",
       "      <td>0</td>\n",
       "      <td>07/17/1999</td>\n",
       "      <td>İstanbul</td>\n",
       "      <td>Big Cities</td>\n",
       "      <td>IL</td>\n",
       "      <td>4</td>\n",
       "      <td>5.0</td>\n",
       "      <td>4.0</td>\n",
       "      <td>4.0</td>\n",
       "      <td>2</td>\n",
       "      <td>...</td>\n",
       "      <td>3.0</td>\n",
       "      <td>5</td>\n",
       "      <td>3</td>\n",
       "      <td>4</td>\n",
       "      <td>5</td>\n",
       "      <td>5</td>\n",
       "      <td>4</td>\n",
       "      <td>3</td>\n",
       "      <td>4</td>\n",
       "      <td>5653753.0</td>\n",
       "    </tr>\n",
       "    <tr>\n",
       "      <th>1</th>\n",
       "      <td>1</td>\n",
       "      <td>02/14/2008</td>\n",
       "      <td>Ankara</td>\n",
       "      <td>Big Cities</td>\n",
       "      <td>FC</td>\n",
       "      <td>4</td>\n",
       "      <td>5.0</td>\n",
       "      <td>4.0</td>\n",
       "      <td>4.0</td>\n",
       "      <td>1</td>\n",
       "      <td>...</td>\n",
       "      <td>3.0</td>\n",
       "      <td>0</td>\n",
       "      <td>0</td>\n",
       "      <td>0</td>\n",
       "      <td>0</td>\n",
       "      <td>0</td>\n",
       "      <td>0</td>\n",
       "      <td>0</td>\n",
       "      <td>0</td>\n",
       "      <td>6923131.0</td>\n",
       "    </tr>\n",
       "    <tr>\n",
       "      <th>2</th>\n",
       "      <td>2</td>\n",
       "      <td>03/09/2013</td>\n",
       "      <td>Diyarbakır</td>\n",
       "      <td>Other</td>\n",
       "      <td>IL</td>\n",
       "      <td>2</td>\n",
       "      <td>4.0</td>\n",
       "      <td>2.0</td>\n",
       "      <td>5.0</td>\n",
       "      <td>2</td>\n",
       "      <td>...</td>\n",
       "      <td>3.0</td>\n",
       "      <td>0</td>\n",
       "      <td>0</td>\n",
       "      <td>0</td>\n",
       "      <td>0</td>\n",
       "      <td>0</td>\n",
       "      <td>0</td>\n",
       "      <td>0</td>\n",
       "      <td>0</td>\n",
       "      <td>2055379.0</td>\n",
       "    </tr>\n",
       "  </tbody>\n",
       "</table>\n",
       "<p>3 rows × 43 columns</p>\n",
       "</div>"
      ],
      "text/plain": [
       "   Id   Open Date        City  City Group Type  P1   P2   P3   P4  P5  ...  \\\n",
       "0   0  07/17/1999    İstanbul  Big Cities   IL   4  5.0  4.0  4.0   2  ...   \n",
       "1   1  02/14/2008      Ankara  Big Cities   FC   4  5.0  4.0  4.0   1  ...   \n",
       "2   2  03/09/2013  Diyarbakır       Other   IL   2  4.0  2.0  5.0   2  ...   \n",
       "\n",
       "   P29  P30  P31  P32  P33  P34  P35  P36  P37    revenue  \n",
       "0  3.0    5    3    4    5    5    4    3    4  5653753.0  \n",
       "1  3.0    0    0    0    0    0    0    0    0  6923131.0  \n",
       "2  3.0    0    0    0    0    0    0    0    0  2055379.0  \n",
       "\n",
       "[3 rows x 43 columns]"
      ]
     },
     "execution_count": 260,
     "metadata": {},
     "output_type": "execute_result"
    }
   ],
   "source": [
    "train.head(3)"
   ]
  },
  {
   "cell_type": "code",
   "execution_count": 261,
   "id": "87c7dd4f",
   "metadata": {},
   "outputs": [],
   "source": [
    "id=train['Id']\n",
    " "
   ]
  },
  {
   "cell_type": "code",
   "execution_count": 262,
   "id": "fe0de2b1",
   "metadata": {},
   "outputs": [],
   "source": [
    "y=train['revenue']"
   ]
  },
  {
   "cell_type": "code",
   "execution_count": 263,
   "id": "d725783a",
   "metadata": {},
   "outputs": [],
   "source": [
    "feats=[col for col in train.columns if col.startswith('P')]"
   ]
  },
  {
   "cell_type": "code",
   "execution_count": 264,
   "id": "e888428f",
   "metadata": {},
   "outputs": [],
   "source": [
    "train=train[feats]"
   ]
  },
  {
   "cell_type": "code",
   "execution_count": 277,
   "id": "33e22e0e",
   "metadata": {},
   "outputs": [
    {
     "name": "stdout",
     "output_type": "stream",
     "text": [
      "g  [3, 3, 3, 7, 3, 5, 3, 2, 3, 2, 2, 3, 3, 3, 3, 7, 2, 1, 3, 3, 3, 1, 7, 3, 2, 3, 3, 3, 2, 3, 3, 3, 3, 3, 3, 2, 3, 3, 2, 2, 2, 1, 5, 3, 3, 7, 3, 3, 3, 7, 3, 3, 3, 3, 3, 3, 3, 2, 3, 3, 7, 5, 3, 3, 7, 3, 3, 1, 3, 3, 3, 7, 1, 0, 2, 0, 3, 2, 2, 3, 1, 3, 3, 3, 3, 3, 3, 2, 2, 3, 7, 3, 7, 2, 3, 3, 2, 1, 3, 1]\n",
      "c  [5, 5, 5, 10, 5, 8, 5, 3, 5, 10, 10, 5, 5, 5, 5, 10, 5, 5, 5, 3, 5, 3, 10, 4, 5, 5, 5, 4, 4, 2, 5, 5, 4, 5, 4, 4, 5, 5, 5, 4, 2, 3, 10, 5, 5, 10, 5, 5, 4, 10, 4, 5, 4, 5, 2, 5, 3, 5, 5, 5, 10, 8, 5, 5, 10, 5, 5, 3, 5, 5, 5, 10, 4, 4, 8, 3, 5, 4, 6, 5, 5, 5, 5, 5, 5, 5, 5, 4, 5, 5, 8, 5, 8, 4, 5, 5, 4, 5, 4, 3]\n"
     ]
    }
   ],
   "source": [
    "g=list(train['P29'].astype(int))\n",
    "c=list(train['P12'].astype(int))\n",
    "print('g ',g[:100])\n",
    "print('c ',c[:100])"
   ]
  },
  {
   "cell_type": "code",
   "execution_count": 278,
   "id": "035e47cc",
   "metadata": {},
   "outputs": [
    {
     "data": {
      "text/plain": [
       "(array([0, 1, 2, 3, 5, 7]), array([ 2, 12, 25, 80,  4, 14], dtype=int64))"
      ]
     },
     "execution_count": 278,
     "metadata": {},
     "output_type": "execute_result"
    }
   ],
   "source": [
    "np.unique(g,return_counts=True)"
   ]
  },
  {
   "cell_type": "code",
   "execution_count": 279,
   "id": "dd0b4c69",
   "metadata": {},
   "outputs": [
    {
     "data": {
      "text/plain": [
       "(array([ 2,  3,  4,  5,  6,  8, 10]),\n",
       " array([ 4,  8, 26, 76,  2,  6, 15], dtype=int64))"
      ]
     },
     "execution_count": 279,
     "metadata": {},
     "output_type": "execute_result"
    }
   ],
   "source": [
    "np.unique(c,return_counts=True)"
   ]
  },
  {
   "cell_type": "code",
   "execution_count": 280,
   "id": "4098bffd",
   "metadata": {},
   "outputs": [],
   "source": [
    "translate=[]\n",
    "for  i in range(len(g)):\n",
    "    if c not in [2,3,5]:\n",
    "        translate.append(g[i])\n",
    "    else:\n",
    "        translate.append(c[i])"
   ]
  },
  {
   "cell_type": "code",
   "execution_count": 285,
   "id": "56a8ec8b",
   "metadata": {},
   "outputs": [],
   "source": [
    "train['translate']=translate"
   ]
  },
  {
   "cell_type": "code",
   "execution_count": 286,
   "id": "de337476",
   "metadata": {},
   "outputs": [
    {
     "name": "stdout",
     "output_type": "stream",
     "text": [
      "g  [3, 2, 1, 10, 1, 5, 1, 2, 1, 10, 20, 3, 2, 1, 2, 5, 1, 1, 2, 1, 5, 1, 10, 1, 3, 1, 2, 5, 3, 1, 1, 1, 1, 1, 1, 5, 3, 5, 1, 2, 1, 5, 20, 1, 1, 5, 2, 5, 5, 5, 2, 2, 1, 1, 1, 1, 2, 1, 1, 1, 10, 5, 1, 1, 5, 1, 2, 3, 1, 1, 2, 5, 5, 5, 25, 4, 1, 1, 10, 4, 3, 1, 2, 1, 3, 1, 2, 2, 1, 1, 5, 2, 25, 1, 1, 1, 3, 5, 1, 1]\n",
      "c  [4, 2, 1, 12, 2, 6, 4, 5, 1, 3, 15, 5, 4, 4, 3, 9, 4, 1, 5, 1, 5, 5, 12, 2, 5, 1, 5, 5, 5, 1, 1, 2, 1, 1, 4, 5, 5, 3, 4, 5, 5, 5, 15, 1, 3, 15, 5, 5, 5, 3, 5, 4, 1, 4, 2, 1, 5, 2, 3, 3, 15, 12, 1, 1, 9, 1, 3, 5, 1, 1, 5, 9, 5, 5, 15, 5, 4, 5, 12, 3, 5, 4, 4, 4, 3, 4, 5, 5, 1, 1, 9, 2, 15, 5, 2, 1, 2, 5, 5, 5]\n"
     ]
    }
   ],
   "source": [
    "g=list(train['P23'])\n",
    "c=list(train['P20'].astype(int))\n",
    "print('g ',g[:100])\n",
    "print('c ',c[:100])"
   ]
  },
  {
   "cell_type": "code",
   "execution_count": 287,
   "id": "3abd7bdc",
   "metadata": {},
   "outputs": [
    {
     "data": {
      "text/plain": [
       "(array([ 1,  2,  3,  4,  5, 10, 15, 20, 25]),\n",
       " array([65, 20, 11,  4, 25,  6,  1,  2,  3], dtype=int64))"
      ]
     },
     "execution_count": 287,
     "metadata": {},
     "output_type": "execute_result"
    }
   ],
   "source": [
    "np.unique(g,return_counts=True)"
   ]
  },
  {
   "cell_type": "code",
   "execution_count": 288,
   "id": "20250c2a",
   "metadata": {},
   "outputs": [
    {
     "data": {
      "text/plain": [
       "(array([ 1,  2,  3,  4,  5,  6,  9, 12, 15]),\n",
       " array([28, 16, 16, 16, 41,  1,  5,  5,  9], dtype=int64))"
      ]
     },
     "execution_count": 288,
     "metadata": {},
     "output_type": "execute_result"
    }
   ],
   "source": [
    "np.unique(c,return_counts=True)"
   ]
  },
  {
   "cell_type": "code",
   "execution_count": 289,
   "id": "1de640d7",
   "metadata": {},
   "outputs": [],
   "source": [
    "translate=[]\n",
    "for  i in range(len(g)):\n",
    "    if c not in [1,2,5]:\n",
    "        translate.append(g[i])\n",
    "    else:\n",
    "        translate.append(c[i])"
   ]
  },
  {
   "cell_type": "code",
   "execution_count": 290,
   "id": "27d6ba56",
   "metadata": {},
   "outputs": [
    {
     "data": {
      "text/html": [
       "<div>\n",
       "<style scoped>\n",
       "    .dataframe tbody tr th:only-of-type {\n",
       "        vertical-align: middle;\n",
       "    }\n",
       "\n",
       "    .dataframe tbody tr th {\n",
       "        vertical-align: top;\n",
       "    }\n",
       "\n",
       "    .dataframe thead th {\n",
       "        text-align: right;\n",
       "    }\n",
       "</style>\n",
       "<table border=\"1\" class=\"dataframe\">\n",
       "  <thead>\n",
       "    <tr style=\"text-align: right;\">\n",
       "      <th></th>\n",
       "      <th>P1</th>\n",
       "      <th>P2</th>\n",
       "      <th>P3</th>\n",
       "      <th>P4</th>\n",
       "      <th>P5</th>\n",
       "      <th>P6</th>\n",
       "      <th>P7</th>\n",
       "      <th>P8</th>\n",
       "      <th>P9</th>\n",
       "      <th>P10</th>\n",
       "      <th>...</th>\n",
       "      <th>P30</th>\n",
       "      <th>P31</th>\n",
       "      <th>P32</th>\n",
       "      <th>P33</th>\n",
       "      <th>P34</th>\n",
       "      <th>P35</th>\n",
       "      <th>P36</th>\n",
       "      <th>P37</th>\n",
       "      <th>translate</th>\n",
       "      <th>translate2</th>\n",
       "    </tr>\n",
       "  </thead>\n",
       "  <tbody>\n",
       "    <tr>\n",
       "      <th>0</th>\n",
       "      <td>4</td>\n",
       "      <td>5.0</td>\n",
       "      <td>4.0</td>\n",
       "      <td>4.0</td>\n",
       "      <td>2</td>\n",
       "      <td>2</td>\n",
       "      <td>5</td>\n",
       "      <td>4</td>\n",
       "      <td>5</td>\n",
       "      <td>5</td>\n",
       "      <td>...</td>\n",
       "      <td>5</td>\n",
       "      <td>3</td>\n",
       "      <td>4</td>\n",
       "      <td>5</td>\n",
       "      <td>5</td>\n",
       "      <td>4</td>\n",
       "      <td>3</td>\n",
       "      <td>4</td>\n",
       "      <td>3</td>\n",
       "      <td>3</td>\n",
       "    </tr>\n",
       "    <tr>\n",
       "      <th>1</th>\n",
       "      <td>4</td>\n",
       "      <td>5.0</td>\n",
       "      <td>4.0</td>\n",
       "      <td>4.0</td>\n",
       "      <td>1</td>\n",
       "      <td>2</td>\n",
       "      <td>5</td>\n",
       "      <td>5</td>\n",
       "      <td>5</td>\n",
       "      <td>5</td>\n",
       "      <td>...</td>\n",
       "      <td>0</td>\n",
       "      <td>0</td>\n",
       "      <td>0</td>\n",
       "      <td>0</td>\n",
       "      <td>0</td>\n",
       "      <td>0</td>\n",
       "      <td>0</td>\n",
       "      <td>0</td>\n",
       "      <td>3</td>\n",
       "      <td>2</td>\n",
       "    </tr>\n",
       "    <tr>\n",
       "      <th>2</th>\n",
       "      <td>2</td>\n",
       "      <td>4.0</td>\n",
       "      <td>2.0</td>\n",
       "      <td>5.0</td>\n",
       "      <td>2</td>\n",
       "      <td>3</td>\n",
       "      <td>5</td>\n",
       "      <td>5</td>\n",
       "      <td>5</td>\n",
       "      <td>5</td>\n",
       "      <td>...</td>\n",
       "      <td>0</td>\n",
       "      <td>0</td>\n",
       "      <td>0</td>\n",
       "      <td>0</td>\n",
       "      <td>0</td>\n",
       "      <td>0</td>\n",
       "      <td>0</td>\n",
       "      <td>0</td>\n",
       "      <td>3</td>\n",
       "      <td>1</td>\n",
       "    </tr>\n",
       "    <tr>\n",
       "      <th>3</th>\n",
       "      <td>6</td>\n",
       "      <td>4.5</td>\n",
       "      <td>6.0</td>\n",
       "      <td>6.0</td>\n",
       "      <td>4</td>\n",
       "      <td>4</td>\n",
       "      <td>10</td>\n",
       "      <td>8</td>\n",
       "      <td>10</td>\n",
       "      <td>10</td>\n",
       "      <td>...</td>\n",
       "      <td>25</td>\n",
       "      <td>12</td>\n",
       "      <td>10</td>\n",
       "      <td>6</td>\n",
       "      <td>18</td>\n",
       "      <td>12</td>\n",
       "      <td>12</td>\n",
       "      <td>6</td>\n",
       "      <td>7</td>\n",
       "      <td>10</td>\n",
       "    </tr>\n",
       "    <tr>\n",
       "      <th>4</th>\n",
       "      <td>3</td>\n",
       "      <td>4.0</td>\n",
       "      <td>3.0</td>\n",
       "      <td>4.0</td>\n",
       "      <td>2</td>\n",
       "      <td>2</td>\n",
       "      <td>5</td>\n",
       "      <td>5</td>\n",
       "      <td>5</td>\n",
       "      <td>5</td>\n",
       "      <td>...</td>\n",
       "      <td>5</td>\n",
       "      <td>1</td>\n",
       "      <td>3</td>\n",
       "      <td>2</td>\n",
       "      <td>3</td>\n",
       "      <td>4</td>\n",
       "      <td>3</td>\n",
       "      <td>3</td>\n",
       "      <td>3</td>\n",
       "      <td>1</td>\n",
       "    </tr>\n",
       "    <tr>\n",
       "      <th>...</th>\n",
       "      <td>...</td>\n",
       "      <td>...</td>\n",
       "      <td>...</td>\n",
       "      <td>...</td>\n",
       "      <td>...</td>\n",
       "      <td>...</td>\n",
       "      <td>...</td>\n",
       "      <td>...</td>\n",
       "      <td>...</td>\n",
       "      <td>...</td>\n",
       "      <td>...</td>\n",
       "      <td>...</td>\n",
       "      <td>...</td>\n",
       "      <td>...</td>\n",
       "      <td>...</td>\n",
       "      <td>...</td>\n",
       "      <td>...</td>\n",
       "      <td>...</td>\n",
       "      <td>...</td>\n",
       "      <td>...</td>\n",
       "      <td>...</td>\n",
       "    </tr>\n",
       "    <tr>\n",
       "      <th>132</th>\n",
       "      <td>2</td>\n",
       "      <td>3.0</td>\n",
       "      <td>3.0</td>\n",
       "      <td>5.0</td>\n",
       "      <td>4</td>\n",
       "      <td>2</td>\n",
       "      <td>4</td>\n",
       "      <td>4</td>\n",
       "      <td>4</td>\n",
       "      <td>4</td>\n",
       "      <td>...</td>\n",
       "      <td>0</td>\n",
       "      <td>0</td>\n",
       "      <td>0</td>\n",
       "      <td>0</td>\n",
       "      <td>0</td>\n",
       "      <td>0</td>\n",
       "      <td>0</td>\n",
       "      <td>0</td>\n",
       "      <td>3</td>\n",
       "      <td>1</td>\n",
       "    </tr>\n",
       "    <tr>\n",
       "      <th>133</th>\n",
       "      <td>4</td>\n",
       "      <td>5.0</td>\n",
       "      <td>4.0</td>\n",
       "      <td>4.0</td>\n",
       "      <td>2</td>\n",
       "      <td>3</td>\n",
       "      <td>5</td>\n",
       "      <td>4</td>\n",
       "      <td>4</td>\n",
       "      <td>5</td>\n",
       "      <td>...</td>\n",
       "      <td>0</td>\n",
       "      <td>0</td>\n",
       "      <td>0</td>\n",
       "      <td>0</td>\n",
       "      <td>0</td>\n",
       "      <td>0</td>\n",
       "      <td>0</td>\n",
       "      <td>0</td>\n",
       "      <td>3</td>\n",
       "      <td>1</td>\n",
       "    </tr>\n",
       "    <tr>\n",
       "      <th>134</th>\n",
       "      <td>3</td>\n",
       "      <td>4.0</td>\n",
       "      <td>4.0</td>\n",
       "      <td>4.0</td>\n",
       "      <td>2</td>\n",
       "      <td>3</td>\n",
       "      <td>5</td>\n",
       "      <td>5</td>\n",
       "      <td>5</td>\n",
       "      <td>5</td>\n",
       "      <td>...</td>\n",
       "      <td>0</td>\n",
       "      <td>0</td>\n",
       "      <td>0</td>\n",
       "      <td>0</td>\n",
       "      <td>0</td>\n",
       "      <td>0</td>\n",
       "      <td>0</td>\n",
       "      <td>0</td>\n",
       "      <td>3</td>\n",
       "      <td>2</td>\n",
       "    </tr>\n",
       "    <tr>\n",
       "      <th>135</th>\n",
       "      <td>4</td>\n",
       "      <td>5.0</td>\n",
       "      <td>4.0</td>\n",
       "      <td>5.0</td>\n",
       "      <td>2</td>\n",
       "      <td>2</td>\n",
       "      <td>5</td>\n",
       "      <td>5</td>\n",
       "      <td>5</td>\n",
       "      <td>5</td>\n",
       "      <td>...</td>\n",
       "      <td>0</td>\n",
       "      <td>0</td>\n",
       "      <td>0</td>\n",
       "      <td>0</td>\n",
       "      <td>0</td>\n",
       "      <td>0</td>\n",
       "      <td>0</td>\n",
       "      <td>0</td>\n",
       "      <td>3</td>\n",
       "      <td>1</td>\n",
       "    </tr>\n",
       "    <tr>\n",
       "      <th>136</th>\n",
       "      <td>4</td>\n",
       "      <td>5.0</td>\n",
       "      <td>3.0</td>\n",
       "      <td>5.0</td>\n",
       "      <td>2</td>\n",
       "      <td>2</td>\n",
       "      <td>5</td>\n",
       "      <td>4</td>\n",
       "      <td>4</td>\n",
       "      <td>5</td>\n",
       "      <td>...</td>\n",
       "      <td>0</td>\n",
       "      <td>0</td>\n",
       "      <td>0</td>\n",
       "      <td>0</td>\n",
       "      <td>0</td>\n",
       "      <td>0</td>\n",
       "      <td>0</td>\n",
       "      <td>0</td>\n",
       "      <td>3</td>\n",
       "      <td>1</td>\n",
       "    </tr>\n",
       "  </tbody>\n",
       "</table>\n",
       "<p>137 rows × 39 columns</p>\n",
       "</div>"
      ],
      "text/plain": [
       "     P1   P2   P3   P4  P5  P6  P7  P8  P9  P10  ...  P30  P31  P32  P33  P34  \\\n",
       "0     4  5.0  4.0  4.0   2   2   5   4   5    5  ...    5    3    4    5    5   \n",
       "1     4  5.0  4.0  4.0   1   2   5   5   5    5  ...    0    0    0    0    0   \n",
       "2     2  4.0  2.0  5.0   2   3   5   5   5    5  ...    0    0    0    0    0   \n",
       "3     6  4.5  6.0  6.0   4   4  10   8  10   10  ...   25   12   10    6   18   \n",
       "4     3  4.0  3.0  4.0   2   2   5   5   5    5  ...    5    1    3    2    3   \n",
       "..   ..  ...  ...  ...  ..  ..  ..  ..  ..  ...  ...  ...  ...  ...  ...  ...   \n",
       "132   2  3.0  3.0  5.0   4   2   4   4   4    4  ...    0    0    0    0    0   \n",
       "133   4  5.0  4.0  4.0   2   3   5   4   4    5  ...    0    0    0    0    0   \n",
       "134   3  4.0  4.0  4.0   2   3   5   5   5    5  ...    0    0    0    0    0   \n",
       "135   4  5.0  4.0  5.0   2   2   5   5   5    5  ...    0    0    0    0    0   \n",
       "136   4  5.0  3.0  5.0   2   2   5   4   4    5  ...    0    0    0    0    0   \n",
       "\n",
       "     P35  P36  P37  translate  translate2  \n",
       "0      4    3    4          3           3  \n",
       "1      0    0    0          3           2  \n",
       "2      0    0    0          3           1  \n",
       "3     12   12    6          7          10  \n",
       "4      4    3    3          3           1  \n",
       "..   ...  ...  ...        ...         ...  \n",
       "132    0    0    0          3           1  \n",
       "133    0    0    0          3           1  \n",
       "134    0    0    0          3           2  \n",
       "135    0    0    0          3           1  \n",
       "136    0    0    0          3           1  \n",
       "\n",
       "[137 rows x 39 columns]"
      ]
     },
     "execution_count": 290,
     "metadata": {},
     "output_type": "execute_result"
    }
   ],
   "source": [
    "train['translate2']=translate\n",
    "train"
   ]
  },
  {
   "cell_type": "code",
   "execution_count": 291,
   "id": "2fe5af42",
   "metadata": {},
   "outputs": [],
   "source": [
    "model=LogisticRegression()\n",
    "#model=xgb.XGBRegressor(n_estimators=1)"
   ]
  },
  {
   "cell_type": "code",
   "execution_count": 292,
   "id": "59dbd99e",
   "metadata": {},
   "outputs": [],
   "source": [
    "from sklearn.model_selection import train_test_split"
   ]
  },
  {
   "cell_type": "code",
   "execution_count": 293,
   "id": "e7f31982",
   "metadata": {},
   "outputs": [],
   "source": [
    "X_train, X_test, y_train, y_test = train_test_split(train, y, test_size=0.25, random_state=42)"
   ]
  },
  {
   "cell_type": "code",
   "execution_count": 294,
   "id": "5c98222b",
   "metadata": {},
   "outputs": [
    {
     "name": "stderr",
     "output_type": "stream",
     "text": [
      "C:\\Users\\AlexandruDaia\\AppData\\Local\\Programs\\Python\\Python310\\lib\\site-packages\\sklearn\\linear_model\\_logistic.py:458: ConvergenceWarning: lbfgs failed to converge (status=1):\n",
      "STOP: TOTAL NO. of ITERATIONS REACHED LIMIT.\n",
      "\n",
      "Increase the number of iterations (max_iter) or scale the data as shown in:\n",
      "    https://scikit-learn.org/stable/modules/preprocessing.html\n",
      "Please also refer to the documentation for alternative solver options:\n",
      "    https://scikit-learn.org/stable/modules/linear_model.html#logistic-regression\n",
      "  n_iter_i = _check_optimize_result(\n"
     ]
    },
    {
     "data": {
      "text/html": [
       "<style>#sk-container-id-8 {color: black;background-color: white;}#sk-container-id-8 pre{padding: 0;}#sk-container-id-8 div.sk-toggleable {background-color: white;}#sk-container-id-8 label.sk-toggleable__label {cursor: pointer;display: block;width: 100%;margin-bottom: 0;padding: 0.3em;box-sizing: border-box;text-align: center;}#sk-container-id-8 label.sk-toggleable__label-arrow:before {content: \"▸\";float: left;margin-right: 0.25em;color: #696969;}#sk-container-id-8 label.sk-toggleable__label-arrow:hover:before {color: black;}#sk-container-id-8 div.sk-estimator:hover label.sk-toggleable__label-arrow:before {color: black;}#sk-container-id-8 div.sk-toggleable__content {max-height: 0;max-width: 0;overflow: hidden;text-align: left;background-color: #f0f8ff;}#sk-container-id-8 div.sk-toggleable__content pre {margin: 0.2em;color: black;border-radius: 0.25em;background-color: #f0f8ff;}#sk-container-id-8 input.sk-toggleable__control:checked~div.sk-toggleable__content {max-height: 200px;max-width: 100%;overflow: auto;}#sk-container-id-8 input.sk-toggleable__control:checked~label.sk-toggleable__label-arrow:before {content: \"▾\";}#sk-container-id-8 div.sk-estimator input.sk-toggleable__control:checked~label.sk-toggleable__label {background-color: #d4ebff;}#sk-container-id-8 div.sk-label input.sk-toggleable__control:checked~label.sk-toggleable__label {background-color: #d4ebff;}#sk-container-id-8 input.sk-hidden--visually {border: 0;clip: rect(1px 1px 1px 1px);clip: rect(1px, 1px, 1px, 1px);height: 1px;margin: -1px;overflow: hidden;padding: 0;position: absolute;width: 1px;}#sk-container-id-8 div.sk-estimator {font-family: monospace;background-color: #f0f8ff;border: 1px dotted black;border-radius: 0.25em;box-sizing: border-box;margin-bottom: 0.5em;}#sk-container-id-8 div.sk-estimator:hover {background-color: #d4ebff;}#sk-container-id-8 div.sk-parallel-item::after {content: \"\";width: 100%;border-bottom: 1px solid gray;flex-grow: 1;}#sk-container-id-8 div.sk-label:hover label.sk-toggleable__label {background-color: #d4ebff;}#sk-container-id-8 div.sk-serial::before {content: \"\";position: absolute;border-left: 1px solid gray;box-sizing: border-box;top: 0;bottom: 0;left: 50%;z-index: 0;}#sk-container-id-8 div.sk-serial {display: flex;flex-direction: column;align-items: center;background-color: white;padding-right: 0.2em;padding-left: 0.2em;position: relative;}#sk-container-id-8 div.sk-item {position: relative;z-index: 1;}#sk-container-id-8 div.sk-parallel {display: flex;align-items: stretch;justify-content: center;background-color: white;position: relative;}#sk-container-id-8 div.sk-item::before, #sk-container-id-8 div.sk-parallel-item::before {content: \"\";position: absolute;border-left: 1px solid gray;box-sizing: border-box;top: 0;bottom: 0;left: 50%;z-index: -1;}#sk-container-id-8 div.sk-parallel-item {display: flex;flex-direction: column;z-index: 1;position: relative;background-color: white;}#sk-container-id-8 div.sk-parallel-item:first-child::after {align-self: flex-end;width: 50%;}#sk-container-id-8 div.sk-parallel-item:last-child::after {align-self: flex-start;width: 50%;}#sk-container-id-8 div.sk-parallel-item:only-child::after {width: 0;}#sk-container-id-8 div.sk-dashed-wrapped {border: 1px dashed gray;margin: 0 0.4em 0.5em 0.4em;box-sizing: border-box;padding-bottom: 0.4em;background-color: white;}#sk-container-id-8 div.sk-label label {font-family: monospace;font-weight: bold;display: inline-block;line-height: 1.2em;}#sk-container-id-8 div.sk-label-container {text-align: center;}#sk-container-id-8 div.sk-container {/* jupyter's `normalize.less` sets `[hidden] { display: none; }` but bootstrap.min.css set `[hidden] { display: none !important; }` so we also need the `!important` here to be able to override the default hidden behavior on the sphinx rendered scikit-learn.org. See: https://github.com/scikit-learn/scikit-learn/issues/21755 */display: inline-block !important;position: relative;}#sk-container-id-8 div.sk-text-repr-fallback {display: none;}</style><div id=\"sk-container-id-8\" class=\"sk-top-container\"><div class=\"sk-text-repr-fallback\"><pre>LogisticRegression()</pre><b>In a Jupyter environment, please rerun this cell to show the HTML representation or trust the notebook. <br />On GitHub, the HTML representation is unable to render, please try loading this page with nbviewer.org.</b></div><div class=\"sk-container\" hidden><div class=\"sk-item\"><div class=\"sk-estimator sk-toggleable\"><input class=\"sk-toggleable__control sk-hidden--visually\" id=\"sk-estimator-id-8\" type=\"checkbox\" checked><label for=\"sk-estimator-id-8\" class=\"sk-toggleable__label sk-toggleable__label-arrow\">LogisticRegression</label><div class=\"sk-toggleable__content\"><pre>LogisticRegression()</pre></div></div></div></div></div>"
      ],
      "text/plain": [
       "LogisticRegression()"
      ]
     },
     "execution_count": 294,
     "metadata": {},
     "output_type": "execute_result"
    }
   ],
   "source": [
    "model.fit(X_train,y_train)"
   ]
  },
  {
   "cell_type": "code",
   "execution_count": 295,
   "id": "362c89f2",
   "metadata": {},
   "outputs": [],
   "source": [
    "pred=model.predict(X_test)"
   ]
  },
  {
   "cell_type": "code",
   "execution_count": 296,
   "id": "94d15b0e",
   "metadata": {},
   "outputs": [
    {
     "data": {
      "text/plain": [
       "3063397.068910255"
      ]
     },
     "execution_count": 296,
     "metadata": {},
     "output_type": "execute_result"
    }
   ],
   "source": [
    "np.sqrt(mean_squared_error(y_test,pred))"
   ]
  },
  {
   "cell_type": "code",
   "execution_count": 297,
   "id": "2c2a32cd",
   "metadata": {},
   "outputs": [
    {
     "data": {
      "text/plain": [
       "<AxesSubplot: ylabel='Feature'>"
      ]
     },
     "execution_count": 297,
     "metadata": {},
     "output_type": "execute_result"
    },
    {
     "data": {
      "image/png": "[encoded data removed]",
      "text/plain": [
       "<Figure size 1000x600 with 1 Axes>"
      ]
     },
     "metadata": {},
     "output_type": "display_data"
    }
   ],
   "source": [
    "coefficients = model.coef_[0]\n",
    "\n",
    "feature_importance = pd.DataFrame({'Feature': train.columns, 'Importance': np.abs(coefficients)})\n",
    "feature_importance = feature_importance.sort_values('Importance', ascending=True)\n",
    "feature_importance.plot(x='Feature', y='Importance', kind='barh', figsize=(10, 6))"
   ]
  },
  {
   "cell_type": "code",
   "execution_count": 298,
   "id": "dfeb3a0d",
   "metadata": {},
   "outputs": [
    {
     "data": {
      "text/plain": [
       "array([[1.        , 0.80119275],\n",
       "       [0.80119275, 1.        ]])"
      ]
     },
     "execution_count": 298,
     "metadata": {},
     "output_type": "execute_result"
    }
   ],
   "source": [
    "np.corrcoef(train['P23'],train['P20'])"
   ]
  },
  {
   "cell_type": "code",
   "execution_count": 299,
   "id": "296f1d04",
   "metadata": {},
   "outputs": [
    {
     "data": {
      "text/plain": [
       "array([[1.        , 0.57858667],\n",
       "       [0.57858667, 1.        ]])"
      ]
     },
     "execution_count": 299,
     "metadata": {},
     "output_type": "execute_result"
    }
   ],
   "source": [
    "np.corrcoef(train['P12'],train['P23'])"
   ]
  },
  {
   "cell_type": "code",
   "execution_count": 300,
   "id": "a382bb49",
   "metadata": {},
   "outputs": [],
   "source": [
    "test=pd.read_csv('C:\\\\Users\\\\AlexandruDaia\\\\Downloads\\\\restaurant\\\\test.csv\\\\test.csv')"
   ]
  },
  {
   "cell_type": "code",
   "execution_count": 301,
   "id": "f8547182",
   "metadata": {},
   "outputs": [
    {
     "data": {
      "text/html": [
       "<div>\n",
       "<style scoped>\n",
       "    .dataframe tbody tr th:only-of-type {\n",
       "        vertical-align: middle;\n",
       "    }\n",
       "\n",
       "    .dataframe tbody tr th {\n",
       "        vertical-align: top;\n",
       "    }\n",
       "\n",
       "    .dataframe thead th {\n",
       "        text-align: right;\n",
       "    }\n",
       "</style>\n",
       "<table border=\"1\" class=\"dataframe\">\n",
       "  <thead>\n",
       "    <tr style=\"text-align: right;\">\n",
       "      <th></th>\n",
       "      <th>Id</th>\n",
       "      <th>Open Date</th>\n",
       "      <th>City</th>\n",
       "      <th>City Group</th>\n",
       "      <th>Type</th>\n",
       "      <th>P1</th>\n",
       "      <th>P2</th>\n",
       "      <th>P3</th>\n",
       "      <th>P4</th>\n",
       "      <th>P5</th>\n",
       "      <th>...</th>\n",
       "      <th>P28</th>\n",
       "      <th>P29</th>\n",
       "      <th>P30</th>\n",
       "      <th>P31</th>\n",
       "      <th>P32</th>\n",
       "      <th>P33</th>\n",
       "      <th>P34</th>\n",
       "      <th>P35</th>\n",
       "      <th>P36</th>\n",
       "      <th>P37</th>\n",
       "    </tr>\n",
       "  </thead>\n",
       "  <tbody>\n",
       "    <tr>\n",
       "      <th>0</th>\n",
       "      <td>0</td>\n",
       "      <td>01/22/2011</td>\n",
       "      <td>Niğde</td>\n",
       "      <td>Other</td>\n",
       "      <td>FC</td>\n",
       "      <td>1</td>\n",
       "      <td>4.0</td>\n",
       "      <td>4.0</td>\n",
       "      <td>4.0</td>\n",
       "      <td>1</td>\n",
       "      <td>...</td>\n",
       "      <td>2.0</td>\n",
       "      <td>3.0</td>\n",
       "      <td>0</td>\n",
       "      <td>0</td>\n",
       "      <td>0</td>\n",
       "      <td>0</td>\n",
       "      <td>0</td>\n",
       "      <td>0</td>\n",
       "      <td>0</td>\n",
       "      <td>0</td>\n",
       "    </tr>\n",
       "    <tr>\n",
       "      <th>1</th>\n",
       "      <td>1</td>\n",
       "      <td>03/18/2011</td>\n",
       "      <td>Konya</td>\n",
       "      <td>Other</td>\n",
       "      <td>IL</td>\n",
       "      <td>3</td>\n",
       "      <td>4.0</td>\n",
       "      <td>4.0</td>\n",
       "      <td>4.0</td>\n",
       "      <td>2</td>\n",
       "      <td>...</td>\n",
       "      <td>1.0</td>\n",
       "      <td>3.0</td>\n",
       "      <td>0</td>\n",
       "      <td>0</td>\n",
       "      <td>0</td>\n",
       "      <td>0</td>\n",
       "      <td>0</td>\n",
       "      <td>0</td>\n",
       "      <td>0</td>\n",
       "      <td>0</td>\n",
       "    </tr>\n",
       "    <tr>\n",
       "      <th>2</th>\n",
       "      <td>2</td>\n",
       "      <td>10/30/2013</td>\n",
       "      <td>Ankara</td>\n",
       "      <td>Big Cities</td>\n",
       "      <td>FC</td>\n",
       "      <td>3</td>\n",
       "      <td>4.0</td>\n",
       "      <td>4.0</td>\n",
       "      <td>4.0</td>\n",
       "      <td>2</td>\n",
       "      <td>...</td>\n",
       "      <td>2.0</td>\n",
       "      <td>3.0</td>\n",
       "      <td>0</td>\n",
       "      <td>0</td>\n",
       "      <td>0</td>\n",
       "      <td>0</td>\n",
       "      <td>0</td>\n",
       "      <td>0</td>\n",
       "      <td>0</td>\n",
       "      <td>0</td>\n",
       "    </tr>\n",
       "  </tbody>\n",
       "</table>\n",
       "<p>3 rows × 42 columns</p>\n",
       "</div>"
      ],
      "text/plain": [
       "   Id   Open Date    City  City Group Type  P1   P2   P3   P4  P5  ...  P28  \\\n",
       "0   0  01/22/2011   Niğde       Other   FC   1  4.0  4.0  4.0   1  ...  2.0   \n",
       "1   1  03/18/2011   Konya       Other   IL   3  4.0  4.0  4.0   2  ...  1.0   \n",
       "2   2  10/30/2013  Ankara  Big Cities   FC   3  4.0  4.0  4.0   2  ...  2.0   \n",
       "\n",
       "   P29  P30  P31  P32  P33  P34  P35  P36  P37  \n",
       "0  3.0    0    0    0    0    0    0    0    0  \n",
       "1  3.0    0    0    0    0    0    0    0    0  \n",
       "2  3.0    0    0    0    0    0    0    0    0  \n",
       "\n",
       "[3 rows x 42 columns]"
      ]
     },
     "execution_count": 301,
     "metadata": {},
     "output_type": "execute_result"
    }
   ],
   "source": [
    "test.head((3))"
   ]
  },
  {
   "cell_type": "code",
   "execution_count": 302,
   "id": "5b29ecd5",
   "metadata": {},
   "outputs": [],
   "source": [
    "id_test=test['Id']"
   ]
  },
  {
   "cell_type": "code",
   "execution_count": 303,
   "id": "8c2ad91d",
   "metadata": {},
   "outputs": [],
   "source": [
    "test=test[feats]"
   ]
  },
  {
   "cell_type": "code",
   "execution_count": 304,
   "id": "98a4fc7a",
   "metadata": {},
   "outputs": [
    {
     "name": "stdout",
     "output_type": "stream",
     "text": [
      "g  [3.0, 3.0, 3.0, 3.0, 3.0, 3.0, 3.0, 1.0, 1.0, 2.5, 5.0, 3.0, 0.0, 0.0, 3.0, 1.0, 2.5, 3.0, 2.0, 3.0, 3.0, 2.0, 3.0, 3.0, 3.0, 2.0, 3.0, 3.0, 3.0, 2.5, 7.5, 2.0, 3.0, 3.0, 3.0, 2.5, 3.0, 3.0, 3.0, 3.0, 3.0, 2.0, 7.5, 3.0, 3.0, 3.0, 7.5, 7.5, 1.0, 3.0, 2.0, 1.0, 3.0, 3.0, 3.0, 2.0, 7.5, 3.0, 7.5, 3.0, 3.0, 3.0, 7.5, 3.0, 3.0, 1.0, 2.0, 2.0, 5.0, 3.0, 3.0, 3.0, 3.0, 1.0, 1.0, 3.0, 3.0, 3.0, 2.0, 2.0, 7.5, 3.0, 7.5, 3.0, 2.0, 3.0, 2.0, 2.0, 3.0, 2.0, 3.0, 3.0, 3.0, 3.0, 3.0, 7.5, 3.0, 2.0, 1.0, 3.0]\n",
      "c  [3, 4, 5, 4, 5, 5, 5, 4, 4, 6, 8, 5, 6, 3, 5, 3, 3, 5, 8, 10, 4, 4, 4, 4, 5, 4, 4, 5, 5, 5, 4, 5, 4, 5, 5, 6, 5, 5, 5, 5, 4, 5, 5, 4, 10, 5, 5, 5, 4, 5, 3, 4, 5, 5, 5, 5, 5, 5, 10, 5, 4, 5, 8, 5, 5, 3, 3, 3, 4, 5, 4, 5, 4, 5, 3, 5, 4, 4, 4, 5, 10, 3, 8, 5, 3, 5, 5, 4, 4, 5, 4, 3, 5, 5, 5, 10, 5, 4, 5, 5]\n"
     ]
    }
   ],
   "source": [
    "g=list(test['P29'])\n",
    "c=list(test['P12'].astype(int))\n",
    "print('g ',g[:100])\n",
    "print('c ',c[:100])"
   ]
  },
  {
   "cell_type": "code",
   "execution_count": 305,
   "id": "8f1f900b",
   "metadata": {},
   "outputs": [
    {
     "data": {
      "text/plain": [
       "(array([ 0. ,  1. ,  2. ,  2.5,  3. ,  5. ,  7.5, 10. ]),\n",
       " array([ 3083,  9495, 17339,  1286, 55099,  3112, 10282,   304],\n",
       "       dtype=int64))"
      ]
     },
     "execution_count": 305,
     "metadata": {},
     "output_type": "execute_result"
    }
   ],
   "source": [
    "np.unique(g,return_counts=True)"
   ]
  },
  {
   "cell_type": "code",
   "execution_count": 306,
   "id": "79450f5b",
   "metadata": {},
   "outputs": [
    {
     "data": {
      "text/plain": [
       "(array([ 2,  3,  4,  5,  6,  8, 10]),\n",
       " array([ 1275,  9206, 25642, 49618,  2474,  3688,  8097], dtype=int64))"
      ]
     },
     "execution_count": 306,
     "metadata": {},
     "output_type": "execute_result"
    }
   ],
   "source": [
    "np.unique(c,return_counts=True)"
   ]
  },
  {
   "cell_type": "code",
   "execution_count": 307,
   "id": "a175dbb8",
   "metadata": {},
   "outputs": [],
   "source": [
    "translate=[]\n",
    "for  i in range(len(g)):\n",
    "    if c not in [2,3,5]:\n",
    "        translate.append(g[i])\n",
    "    else:\n",
    "        translate.append(c[i])"
   ]
  },
  {
   "cell_type": "code",
   "execution_count": 308,
   "id": "e589a406",
   "metadata": {},
   "outputs": [],
   "source": [
    "test['translate']=translate"
   ]
  },
  {
   "cell_type": "code",
   "execution_count": 309,
   "id": "0a99a9ca",
   "metadata": {},
   "outputs": [
    {
     "name": "stdout",
     "output_type": "stream",
     "text": [
      "g  [4, 1, 5, 2, 1, 3, 3, 3, 2, 1, 1, 1, 3, 3, 1, 5, 5, 1, 5, 1, 1, 1, 1, 1, 2, 1, 1, 1, 1, 2, 5, 10, 2, 1, 1, 1, 2, 1, 1, 5, 1, 1, 5, 4, 5, 1, 4, 1, 5, 5, 1, 5, 1, 1, 2, 2, 1, 10, 5, 3, 1, 2, 10, 1, 4, 1, 1, 3, 15, 3, 3, 1, 4, 1, 3, 5, 1, 1, 4, 4, 5, 1, 3, 4, 3, 1, 2, 2, 1, 5, 2, 1, 1, 2, 1, 5, 1, 4, 2, 5]\n",
      "c  [5, 5, 5, 4, 5, 5, 5, 4, 5, 15, 3, 1, 5, 5, 1, 4, 15, 12, 3, 5, 1, 5, 3, 5, 5, 1, 5, 4, 1, 3, 2, 15, 5, 3, 1, 1, 5, 1, 3, 6, 5, 4, 15, 2, 3, 1, 3, 15, 5, 2, 5, 5, 1, 3, 1, 4, 2, 4, 6, 5, 1, 4, 15, 6, 4, 5, 5, 5, 15, 5, 4, 4, 5, 1, 5, 4, 3, 1, 5, 5, 6, 5, 5, 5, 5, 1, 5, 5, 5, 15, 4, 5, 1, 5, 1, 15, 5, 1, 1, 6]\n"
     ]
    }
   ],
   "source": [
    "g=list(test['P23'])\n",
    "c=list(test['P20'].astype(int))\n",
    "print('g ',g[:100])\n",
    "print('c ',c[:100])"
   ]
  },
  {
   "cell_type": "code",
   "execution_count": 310,
   "id": "0907cd9e",
   "metadata": {},
   "outputs": [
    {
     "data": {
      "text/plain": [
       "(array([ 1,  2,  3,  4,  5, 10, 15, 20, 25]),\n",
       " array([39890, 16741, 11561,  8512, 14340,  3038,  2198,  1231,  2489],\n",
       "       dtype=int64))"
      ]
     },
     "execution_count": 310,
     "metadata": {},
     "output_type": "execute_result"
    }
   ],
   "source": [
    "np.unique(g,return_counts=True)"
   ]
  },
  {
   "cell_type": "code",
   "execution_count": 311,
   "id": "59d6053f",
   "metadata": {},
   "outputs": [
    {
     "data": {
      "text/plain": [
       "(array([ 1,  2,  3,  4,  5,  6,  9, 12, 15]),\n",
       " array([19478,  7887, 11931, 12090, 36731,  1825,   322,  1954,  7782],\n",
       "       dtype=int64))"
      ]
     },
     "execution_count": 311,
     "metadata": {},
     "output_type": "execute_result"
    }
   ],
   "source": [
    "np.unique(c,return_counts=True)"
   ]
  },
  {
   "cell_type": "code",
   "execution_count": 312,
   "id": "126b0297",
   "metadata": {},
   "outputs": [],
   "source": [
    "translate=[]\n",
    "for  i in range(len(g)):\n",
    "    if c not in [1,2,5]:\n",
    "        translate.append(g[i])\n",
    "    else:\n",
    "        translate.append(c[i])"
   ]
  },
  {
   "cell_type": "code",
   "execution_count": 313,
   "id": "1b0d4f5e",
   "metadata": {},
   "outputs": [
    {
     "data": {
      "text/html": [
       "<div>\n",
       "<style scoped>\n",
       "    .dataframe tbody tr th:only-of-type {\n",
       "        vertical-align: middle;\n",
       "    }\n",
       "\n",
       "    .dataframe tbody tr th {\n",
       "        vertical-align: top;\n",
       "    }\n",
       "\n",
       "    .dataframe thead th {\n",
       "        text-align: right;\n",
       "    }\n",
       "</style>\n",
       "<table border=\"1\" class=\"dataframe\">\n",
       "  <thead>\n",
       "    <tr style=\"text-align: right;\">\n",
       "      <th></th>\n",
       "      <th>P1</th>\n",
       "      <th>P2</th>\n",
       "      <th>P3</th>\n",
       "      <th>P4</th>\n",
       "      <th>P5</th>\n",
       "      <th>P6</th>\n",
       "      <th>P7</th>\n",
       "      <th>P8</th>\n",
       "      <th>P9</th>\n",
       "      <th>P10</th>\n",
       "      <th>...</th>\n",
       "      <th>P30</th>\n",
       "      <th>P31</th>\n",
       "      <th>P32</th>\n",
       "      <th>P33</th>\n",
       "      <th>P34</th>\n",
       "      <th>P35</th>\n",
       "      <th>P36</th>\n",
       "      <th>P37</th>\n",
       "      <th>translate</th>\n",
       "      <th>translate2</th>\n",
       "    </tr>\n",
       "  </thead>\n",
       "  <tbody>\n",
       "    <tr>\n",
       "      <th>0</th>\n",
       "      <td>1</td>\n",
       "      <td>4.0</td>\n",
       "      <td>4.0</td>\n",
       "      <td>4.0</td>\n",
       "      <td>1</td>\n",
       "      <td>2</td>\n",
       "      <td>5</td>\n",
       "      <td>4</td>\n",
       "      <td>5</td>\n",
       "      <td>5</td>\n",
       "      <td>...</td>\n",
       "      <td>0</td>\n",
       "      <td>0</td>\n",
       "      <td>0</td>\n",
       "      <td>0</td>\n",
       "      <td>0</td>\n",
       "      <td>0</td>\n",
       "      <td>0</td>\n",
       "      <td>0</td>\n",
       "      <td>3.0</td>\n",
       "      <td>4</td>\n",
       "    </tr>\n",
       "    <tr>\n",
       "      <th>1</th>\n",
       "      <td>3</td>\n",
       "      <td>4.0</td>\n",
       "      <td>4.0</td>\n",
       "      <td>4.0</td>\n",
       "      <td>2</td>\n",
       "      <td>2</td>\n",
       "      <td>5</td>\n",
       "      <td>3</td>\n",
       "      <td>4</td>\n",
       "      <td>4</td>\n",
       "      <td>...</td>\n",
       "      <td>0</td>\n",
       "      <td>0</td>\n",
       "      <td>0</td>\n",
       "      <td>0</td>\n",
       "      <td>0</td>\n",
       "      <td>0</td>\n",
       "      <td>0</td>\n",
       "      <td>0</td>\n",
       "      <td>3.0</td>\n",
       "      <td>1</td>\n",
       "    </tr>\n",
       "    <tr>\n",
       "      <th>2</th>\n",
       "      <td>3</td>\n",
       "      <td>4.0</td>\n",
       "      <td>4.0</td>\n",
       "      <td>4.0</td>\n",
       "      <td>2</td>\n",
       "      <td>2</td>\n",
       "      <td>5</td>\n",
       "      <td>4</td>\n",
       "      <td>4</td>\n",
       "      <td>5</td>\n",
       "      <td>...</td>\n",
       "      <td>0</td>\n",
       "      <td>0</td>\n",
       "      <td>0</td>\n",
       "      <td>0</td>\n",
       "      <td>0</td>\n",
       "      <td>0</td>\n",
       "      <td>0</td>\n",
       "      <td>0</td>\n",
       "      <td>3.0</td>\n",
       "      <td>5</td>\n",
       "    </tr>\n",
       "    <tr>\n",
       "      <th>3</th>\n",
       "      <td>2</td>\n",
       "      <td>4.0</td>\n",
       "      <td>4.0</td>\n",
       "      <td>4.0</td>\n",
       "      <td>2</td>\n",
       "      <td>3</td>\n",
       "      <td>5</td>\n",
       "      <td>4</td>\n",
       "      <td>5</td>\n",
       "      <td>4</td>\n",
       "      <td>...</td>\n",
       "      <td>0</td>\n",
       "      <td>4</td>\n",
       "      <td>0</td>\n",
       "      <td>0</td>\n",
       "      <td>0</td>\n",
       "      <td>0</td>\n",
       "      <td>0</td>\n",
       "      <td>0</td>\n",
       "      <td>3.0</td>\n",
       "      <td>2</td>\n",
       "    </tr>\n",
       "    <tr>\n",
       "      <th>4</th>\n",
       "      <td>2</td>\n",
       "      <td>4.0</td>\n",
       "      <td>4.0</td>\n",
       "      <td>4.0</td>\n",
       "      <td>1</td>\n",
       "      <td>2</td>\n",
       "      <td>5</td>\n",
       "      <td>4</td>\n",
       "      <td>5</td>\n",
       "      <td>4</td>\n",
       "      <td>...</td>\n",
       "      <td>0</td>\n",
       "      <td>0</td>\n",
       "      <td>0</td>\n",
       "      <td>0</td>\n",
       "      <td>0</td>\n",
       "      <td>0</td>\n",
       "      <td>0</td>\n",
       "      <td>0</td>\n",
       "      <td>3.0</td>\n",
       "      <td>1</td>\n",
       "    </tr>\n",
       "    <tr>\n",
       "      <th>...</th>\n",
       "      <td>...</td>\n",
       "      <td>...</td>\n",
       "      <td>...</td>\n",
       "      <td>...</td>\n",
       "      <td>...</td>\n",
       "      <td>...</td>\n",
       "      <td>...</td>\n",
       "      <td>...</td>\n",
       "      <td>...</td>\n",
       "      <td>...</td>\n",
       "      <td>...</td>\n",
       "      <td>...</td>\n",
       "      <td>...</td>\n",
       "      <td>...</td>\n",
       "      <td>...</td>\n",
       "      <td>...</td>\n",
       "      <td>...</td>\n",
       "      <td>...</td>\n",
       "      <td>...</td>\n",
       "      <td>...</td>\n",
       "      <td>...</td>\n",
       "    </tr>\n",
       "    <tr>\n",
       "      <th>99995</th>\n",
       "      <td>5</td>\n",
       "      <td>5.0</td>\n",
       "      <td>4.0</td>\n",
       "      <td>4.0</td>\n",
       "      <td>2</td>\n",
       "      <td>2</td>\n",
       "      <td>5</td>\n",
       "      <td>5</td>\n",
       "      <td>4</td>\n",
       "      <td>4</td>\n",
       "      <td>...</td>\n",
       "      <td>0</td>\n",
       "      <td>0</td>\n",
       "      <td>0</td>\n",
       "      <td>0</td>\n",
       "      <td>0</td>\n",
       "      <td>0</td>\n",
       "      <td>0</td>\n",
       "      <td>0</td>\n",
       "      <td>3.0</td>\n",
       "      <td>2</td>\n",
       "    </tr>\n",
       "    <tr>\n",
       "      <th>99996</th>\n",
       "      <td>1</td>\n",
       "      <td>2.0</td>\n",
       "      <td>4.0</td>\n",
       "      <td>3.0</td>\n",
       "      <td>1</td>\n",
       "      <td>1</td>\n",
       "      <td>1</td>\n",
       "      <td>5</td>\n",
       "      <td>5</td>\n",
       "      <td>5</td>\n",
       "      <td>...</td>\n",
       "      <td>5</td>\n",
       "      <td>0</td>\n",
       "      <td>0</td>\n",
       "      <td>0</td>\n",
       "      <td>4</td>\n",
       "      <td>0</td>\n",
       "      <td>0</td>\n",
       "      <td>0</td>\n",
       "      <td>3.0</td>\n",
       "      <td>2</td>\n",
       "    </tr>\n",
       "    <tr>\n",
       "      <th>99997</th>\n",
       "      <td>4</td>\n",
       "      <td>5.0</td>\n",
       "      <td>4.0</td>\n",
       "      <td>4.0</td>\n",
       "      <td>1</td>\n",
       "      <td>2</td>\n",
       "      <td>5</td>\n",
       "      <td>3</td>\n",
       "      <td>4</td>\n",
       "      <td>5</td>\n",
       "      <td>...</td>\n",
       "      <td>5</td>\n",
       "      <td>5</td>\n",
       "      <td>3</td>\n",
       "      <td>2</td>\n",
       "      <td>4</td>\n",
       "      <td>4</td>\n",
       "      <td>4</td>\n",
       "      <td>2</td>\n",
       "      <td>1.0</td>\n",
       "      <td>5</td>\n",
       "    </tr>\n",
       "    <tr>\n",
       "      <th>99998</th>\n",
       "      <td>12</td>\n",
       "      <td>7.5</td>\n",
       "      <td>6.0</td>\n",
       "      <td>6.0</td>\n",
       "      <td>4</td>\n",
       "      <td>4</td>\n",
       "      <td>10</td>\n",
       "      <td>10</td>\n",
       "      <td>10</td>\n",
       "      <td>10</td>\n",
       "      <td>...</td>\n",
       "      <td>0</td>\n",
       "      <td>0</td>\n",
       "      <td>0</td>\n",
       "      <td>4</td>\n",
       "      <td>0</td>\n",
       "      <td>0</td>\n",
       "      <td>0</td>\n",
       "      <td>0</td>\n",
       "      <td>5.0</td>\n",
       "      <td>15</td>\n",
       "    </tr>\n",
       "    <tr>\n",
       "      <th>99999</th>\n",
       "      <td>2</td>\n",
       "      <td>5.0</td>\n",
       "      <td>4.0</td>\n",
       "      <td>4.0</td>\n",
       "      <td>2</td>\n",
       "      <td>2</td>\n",
       "      <td>5</td>\n",
       "      <td>5</td>\n",
       "      <td>5</td>\n",
       "      <td>4</td>\n",
       "      <td>...</td>\n",
       "      <td>0</td>\n",
       "      <td>2</td>\n",
       "      <td>0</td>\n",
       "      <td>2</td>\n",
       "      <td>2</td>\n",
       "      <td>4</td>\n",
       "      <td>2</td>\n",
       "      <td>0</td>\n",
       "      <td>3.0</td>\n",
       "      <td>1</td>\n",
       "    </tr>\n",
       "  </tbody>\n",
       "</table>\n",
       "<p>100000 rows × 39 columns</p>\n",
       "</div>"
      ],
      "text/plain": [
       "       P1   P2   P3   P4  P5  P6  P7  P8  P9  P10  ...  P30  P31  P32  P33  \\\n",
       "0       1  4.0  4.0  4.0   1   2   5   4   5    5  ...    0    0    0    0   \n",
       "1       3  4.0  4.0  4.0   2   2   5   3   4    4  ...    0    0    0    0   \n",
       "2       3  4.0  4.0  4.0   2   2   5   4   4    5  ...    0    0    0    0   \n",
       "3       2  4.0  4.0  4.0   2   3   5   4   5    4  ...    0    4    0    0   \n",
       "4       2  4.0  4.0  4.0   1   2   5   4   5    4  ...    0    0    0    0   \n",
       "...    ..  ...  ...  ...  ..  ..  ..  ..  ..  ...  ...  ...  ...  ...  ...   \n",
       "99995   5  5.0  4.0  4.0   2   2   5   5   4    4  ...    0    0    0    0   \n",
       "99996   1  2.0  4.0  3.0   1   1   1   5   5    5  ...    5    0    0    0   \n",
       "99997   4  5.0  4.0  4.0   1   2   5   3   4    5  ...    5    5    3    2   \n",
       "99998  12  7.5  6.0  6.0   4   4  10  10  10   10  ...    0    0    0    4   \n",
       "99999   2  5.0  4.0  4.0   2   2   5   5   5    4  ...    0    2    0    2   \n",
       "\n",
       "       P34  P35  P36  P37  translate  translate2  \n",
       "0        0    0    0    0        3.0           4  \n",
       "1        0    0    0    0        3.0           1  \n",
       "2        0    0    0    0        3.0           5  \n",
       "3        0    0    0    0        3.0           2  \n",
       "4        0    0    0    0        3.0           1  \n",
       "...    ...  ...  ...  ...        ...         ...  \n",
       "99995    0    0    0    0        3.0           2  \n",
       "99996    4    0    0    0        3.0           2  \n",
       "99997    4    4    4    2        1.0           5  \n",
       "99998    0    0    0    0        5.0          15  \n",
       "99999    2    4    2    0        3.0           1  \n",
       "\n",
       "[100000 rows x 39 columns]"
      ]
     },
     "execution_count": 313,
     "metadata": {},
     "output_type": "execute_result"
    }
   ],
   "source": [
    "test['translate2']=translate\n",
    "test"
   ]
  },
  {
   "cell_type": "code",
   "execution_count": 314,
   "id": "df077319",
   "metadata": {},
   "outputs": [
    {
     "data": {
      "text/plain": [
       "0       True\n",
       "1      False\n",
       "2      False\n",
       "3      False\n",
       "4      False\n",
       "       ...  \n",
       "132    False\n",
       "133    False\n",
       "134    False\n",
       "135    False\n",
       "136    False\n",
       "Length: 137, dtype: bool"
      ]
     },
     "execution_count": 314,
     "metadata": {},
     "output_type": "execute_result"
    }
   ],
   "source": [
    "train['translate']==train['translate2']"
   ]
  },
  {
   "cell_type": "code",
   "execution_count": 315,
   "id": "86f80bfe",
   "metadata": {},
   "outputs": [],
   "source": [
    "pred=model.predict(test)"
   ]
  },
  {
   "cell_type": "code",
   "execution_count": 316,
   "id": "ca5c3e5b",
   "metadata": {},
   "outputs": [],
   "source": [
    "samp=pd.read_csv('sampleSubmission.csv')"
   ]
  },
  {
   "cell_type": "code",
   "execution_count": 317,
   "id": "f306766f",
   "metadata": {},
   "outputs": [
    {
     "data": {
      "text/html": [
       "<div>\n",
       "<style scoped>\n",
       "    .dataframe tbody tr th:only-of-type {\n",
       "        vertical-align: middle;\n",
       "    }\n",
       "\n",
       "    .dataframe tbody tr th {\n",
       "        vertical-align: top;\n",
       "    }\n",
       "\n",
       "    .dataframe thead th {\n",
       "        text-align: right;\n",
       "    }\n",
       "</style>\n",
       "<table border=\"1\" class=\"dataframe\">\n",
       "  <thead>\n",
       "    <tr style=\"text-align: right;\">\n",
       "      <th></th>\n",
       "      <th>Id</th>\n",
       "      <th>Prediction</th>\n",
       "    </tr>\n",
       "  </thead>\n",
       "  <tbody>\n",
       "    <tr>\n",
       "      <th>0</th>\n",
       "      <td>0</td>\n",
       "      <td>4453532.6</td>\n",
       "    </tr>\n",
       "    <tr>\n",
       "      <th>1</th>\n",
       "      <td>1</td>\n",
       "      <td>4453532.6</td>\n",
       "    </tr>\n",
       "    <tr>\n",
       "      <th>2</th>\n",
       "      <td>2</td>\n",
       "      <td>4453532.6</td>\n",
       "    </tr>\n",
       "  </tbody>\n",
       "</table>\n",
       "</div>"
      ],
      "text/plain": [
       "   Id  Prediction\n",
       "0   0   4453532.6\n",
       "1   1   4453532.6\n",
       "2   2   4453532.6"
      ]
     },
     "execution_count": 317,
     "metadata": {},
     "output_type": "execute_result"
    }
   ],
   "source": [
    "samp.head(3)"
   ]
  },
  {
   "cell_type": "code",
   "execution_count": 318,
   "id": "e3db5a53",
   "metadata": {},
   "outputs": [],
   "source": [
    "samp['Prediction']=pred"
   ]
  },
  {
   "cell_type": "code",
   "execution_count": 319,
   "id": "177b343e",
   "metadata": {},
   "outputs": [
    {
     "data": {
      "text/html": [
       "<div>\n",
       "<style scoped>\n",
       "    .dataframe tbody tr th:only-of-type {\n",
       "        vertical-align: middle;\n",
       "    }\n",
       "\n",
       "    .dataframe tbody tr th {\n",
       "        vertical-align: top;\n",
       "    }\n",
       "\n",
       "    .dataframe thead th {\n",
       "        text-align: right;\n",
       "    }\n",
       "</style>\n",
       "<table border=\"1\" class=\"dataframe\">\n",
       "  <thead>\n",
       "    <tr style=\"text-align: right;\">\n",
       "      <th></th>\n",
       "      <th>Id</th>\n",
       "      <th>Prediction</th>\n",
       "    </tr>\n",
       "  </thead>\n",
       "  <tbody>\n",
       "    <tr>\n",
       "      <th>0</th>\n",
       "      <td>0</td>\n",
       "      <td>4067566.0</td>\n",
       "    </tr>\n",
       "    <tr>\n",
       "      <th>1</th>\n",
       "      <td>1</td>\n",
       "      <td>4067566.0</td>\n",
       "    </tr>\n",
       "    <tr>\n",
       "      <th>2</th>\n",
       "      <td>2</td>\n",
       "      <td>7201784.0</td>\n",
       "    </tr>\n",
       "    <tr>\n",
       "      <th>3</th>\n",
       "      <td>3</td>\n",
       "      <td>4067566.0</td>\n",
       "    </tr>\n",
       "    <tr>\n",
       "      <th>4</th>\n",
       "      <td>4</td>\n",
       "      <td>5595267.0</td>\n",
       "    </tr>\n",
       "    <tr>\n",
       "      <th>...</th>\n",
       "      <td>...</td>\n",
       "      <td>...</td>\n",
       "    </tr>\n",
       "    <tr>\n",
       "      <th>99995</th>\n",
       "      <td>99995</td>\n",
       "      <td>6412623.0</td>\n",
       "    </tr>\n",
       "    <tr>\n",
       "      <th>99996</th>\n",
       "      <td>99996</td>\n",
       "      <td>3008199.0</td>\n",
       "    </tr>\n",
       "    <tr>\n",
       "      <th>99997</th>\n",
       "      <td>99997</td>\n",
       "      <td>4554237.0</td>\n",
       "    </tr>\n",
       "    <tr>\n",
       "      <th>99998</th>\n",
       "      <td>99998</td>\n",
       "      <td>3956086.0</td>\n",
       "    </tr>\n",
       "    <tr>\n",
       "      <th>99999</th>\n",
       "      <td>99999</td>\n",
       "      <td>8894598.0</td>\n",
       "    </tr>\n",
       "  </tbody>\n",
       "</table>\n",
       "<p>100000 rows × 2 columns</p>\n",
       "</div>"
      ],
      "text/plain": [
       "          Id  Prediction\n",
       "0          0   4067566.0\n",
       "1          1   4067566.0\n",
       "2          2   7201784.0\n",
       "3          3   4067566.0\n",
       "4          4   5595267.0\n",
       "...      ...         ...\n",
       "99995  99995   6412623.0\n",
       "99996  99996   3008199.0\n",
       "99997  99997   4554237.0\n",
       "99998  99998   3956086.0\n",
       "99999  99999   8894598.0\n",
       "\n",
       "[100000 rows x 2 columns]"
      ]
     },
     "execution_count": 319,
     "metadata": {},
     "output_type": "execute_result"
    }
   ],
   "source": [
    "samp"
   ]
  },
  {
   "cell_type": "code",
   "execution_count": 320,
   "id": "70a5ef6d",
   "metadata": {},
   "outputs": [],
   "source": [
    "samp.to_csv('samp6.csv',index=False)"
   ]
  },
  {
   "cell_type": "code",
   "execution_count": 187,
   "id": "7023e097",
   "metadata": {},
   "outputs": [],
   "source": [
    "a=pd.read_csv('samp2.csv')"
   ]
  },
  {
   "cell_type": "code",
   "execution_count": 188,
   "id": "6dde4210",
   "metadata": {},
   "outputs": [],
   "source": [
    "b=pd.read_csv('samp3.csv')"
   ]
  },
  {
   "cell_type": "code",
   "execution_count": 189,
   "id": "cca54937",
   "metadata": {},
   "outputs": [],
   "source": [
    "c=pd.read_csv('samp4.csv')"
   ]
  },
  {
   "cell_type": "code",
   "execution_count": 190,
   "id": "1d8eda8f",
   "metadata": {},
   "outputs": [],
   "source": [
    "d=a"
   ]
  },
  {
   "cell_type": "code",
   "execution_count": 192,
   "id": "cf560380",
   "metadata": {},
   "outputs": [],
   "source": [
    "d['Prediction']=(a['Prediction']+b['Prediction'])/2"
   ]
  },
  {
   "cell_type": "code",
   "execution_count": 193,
   "id": "5735eab7",
   "metadata": {},
   "outputs": [],
   "source": [
    "d.to_csv('avg.csv',index=False)"
   ]
  },
  {
   "cell_type": "code",
   "execution_count": null,
   "id": "e3c7cdb2",
   "metadata": {},
   "outputs": [],
   "source": []
  }
 ],
 "metadata": {
  "kernelspec": {
   "display_name": "Python 3 (ipykernel)",
   "language": "python",
   "name": "python3"
  },
  "language_info": {
   "codemirror_mode": {
    "name": "ipython",
    "version": 3
   },
   "file_extension": ".py",
   "mimetype": "text/x-python",
   "name": "python",
   "nbconvert_exporter": "python",
   "pygments_lexer": "ipython3",
   "version": "3.10.9"
  }
 },
 "nbformat": 4,
 "nbformat_minor": 5
}
