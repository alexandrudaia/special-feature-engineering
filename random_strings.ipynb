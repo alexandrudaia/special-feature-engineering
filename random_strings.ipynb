{
 "cells": [
  {
   "cell_type": "code",
   "execution_count": 2,
   "id": "8a3284d0",
   "metadata": {},
   "outputs": [
    {
     "name": "stdout",
     "output_type": "stream",
     "text": [
      "-85.577 -74.030 -66.577 -62.556 -60.728 -57.558 -57.120 -55.286 -54.772 -54.608 -54.894 -55.261 -56.254 -58.368 -61.213 -66.524 -71.974\n"
     ]
    }
   ],
   "source": [
    "import math\n",
    "\n",
    "def compute_log_probability(dna_string, gc_content):\n",
    "    # Count the occurrences of G and C in the DNA string.\n",
    "    gc_count = sum(1 for base in dna_string if base in \"GC\")\n",
    "    at_count = len(dna_string) - gc_count\n",
    "\n",
    "    # Handle the special cases where probability is zero.\n",
    "    if (gc_content == 0 and gc_count > 0) or (gc_content == 1 and at_count > 0):\n",
    "        return float(\"-inf\")\n",
    "    \n",
    "    # Compute the log10 probability based on the formula:\n",
    "    # log10(P) = gc_count * log10(gc_content / 2) + at_count * log10((1 - gc_content) / 2)\n",
    "    return gc_count * math.log10(gc_content / 2) + at_count * math.log10((1 - gc_content) / 2)\n",
    "\n",
    "# Read input data from file \"input.txt\".\n",
    "with open(\"rosalind_prob.txt\", \"r\") as infile:\n",
    "    # Expecting the first line is the DNA string and the second line is the list of GC-content values\n",
    "    lines = infile.read().splitlines()\n",
    "\n",
    "dna_string = lines[0].strip()\n",
    "gc_contents = list(map(float, lines[1].split()))\n",
    "\n",
    "# Calculate the log10 probability for each GC-content.\n",
    "results = [compute_log_probability(dna_string, x) for x in gc_contents]\n",
    "\n",
    "# Print the results, each formatted to three decimal places, separated by space.\n",
    "print(\" \".join(f\"{result:.3f}\" for result in results))"
   ]
  },
  {
   "cell_type": "code",
   "execution_count": 3,
   "id": "40fed135",
   "metadata": {},
   "outputs": [
    {
     "data": {
      "text/plain": [
       "'AAGGCGACGGTGCTATGGAATTAGCGTTTCTCCTCGCGGTCACACAGTCGAGGAACACAGAGTGTCCGGCCCCGAAACGTCTTTTGCCTAA'"
      ]
     },
     "execution_count": 3,
     "metadata": {},
     "output_type": "execute_result"
    }
   ],
   "source": [
    "dna_string"
   ]
  },
  {
   "cell_type": "code",
   "execution_count": 4,
   "id": "b402ba3e",
   "metadata": {},
   "outputs": [
    {
     "data": {
      "text/plain": [
       "[0.073,\n",
       " 0.131,\n",
       " 0.197,\n",
       " 0.251,\n",
       " 0.283,\n",
       " 0.359,\n",
       " 0.373,\n",
       " 0.456,\n",
       " 0.502,\n",
       " 0.536,\n",
       " 0.61,\n",
       " 0.639,\n",
       " 0.688,\n",
       " 0.751,\n",
       " 0.805,\n",
       " 0.868,\n",
       " 0.908]"
      ]
     },
     "execution_count": 4,
     "metadata": {},
     "output_type": "execute_result"
    }
   ],
   "source": [
    "gc_contents"
   ]
  },
  {
   "cell_type": "code",
   "execution_count": null,
   "id": "2ce84c80",
   "metadata": {},
   "outputs": [],
   "source": []
  }
 ],
 "metadata": {
  "kernelspec": {
   "display_name": "Python 3 (ipykernel)",
   "language": "python",
   "name": "python3"
  },
  "language_info": {
   "codemirror_mode": {
    "name": "ipython",
    "version": 3
   },
   "file_extension": ".py",
   "mimetype": "text/x-python",
   "name": "python",
   "nbconvert_exporter": "python",
   "pygments_lexer": "ipython3",
   "version": "3.10.9"
  }
 },
 "nbformat": 4,
 "nbformat_minor": 5
}
