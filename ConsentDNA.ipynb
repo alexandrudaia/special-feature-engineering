{
 "cells": [
  {
   "cell_type": "code",
   "execution_count": 1,
   "id": "41acbb46",
   "metadata": {},
   "outputs": [
    {
     "data": {
      "text/plain": [
       "'A T C C A G C T'"
      ]
     },
     "execution_count": 1,
     "metadata": {},
     "output_type": "execute_result"
    }
   ],
   "source": [
    "s1='A ,T, C, C, A ,G, C, T'\n",
    "s2='G, G ,G, C, A, A, C ,T'\n",
    "s3='A ,T ,G ,G ,A ,T ,C ,T'\n",
    "s4='A ,A ,G ,C ,A ,A ,C ,C'\n",
    "s5='T ,T ,G ,G ,A ,A ,C ,T'\n",
    "s6='A ,T ,G ,C ,C ,A ,T ,T'\n",
    "s7='A ,T ,G ,G ,C ,A ,C ,T'\n",
    "s1.replace(',','')\n"
   ]
  },
  {
   "cell_type": "code",
   "execution_count": 2,
   "id": "0eb69c11",
   "metadata": {},
   "outputs": [
    {
     "data": {
      "text/plain": [
       "[['A', ' ', 'T', ' ', 'C', ' ', 'C', ' ', 'A', ' ', 'G', ' ', 'C', ' ', 'T'],\n",
       " ['G', ' ', 'G', ' ', 'G', ' ', 'C', ' ', 'A', ' ', 'A', ' ', 'C', ' ', 'T'],\n",
       " ['A', ' ', 'T', ' ', 'G', ' ', 'G', ' ', 'A', ' ', 'T', ' ', 'C', ' ', 'T'],\n",
       " ['A', ' ', 'A', ' ', 'G', ' ', 'C', ' ', 'A', ' ', 'A', ' ', 'C', ' ', 'C'],\n",
       " ['T', ' ', 'T', ' ', 'G', ' ', 'G', ' ', 'A', ' ', 'A', ' ', 'C', ' ', 'T'],\n",
       " ['A', ' ', 'T', ' ', 'G', ' ', 'C', ' ', 'C', ' ', 'A', ' ', 'T', ' ', 'T'],\n",
       " ['A', ' ', 'T', ' ', 'G', ' ', 'G', ' ', 'C', ' ', 'A', ' ', 'C', ' ', 'T']]"
      ]
     },
     "execution_count": 2,
     "metadata": {},
     "output_type": "execute_result"
    }
   ],
   "source": [
    "lst=[list(s1.replace(',','')),list(s2.replace(',','')),list(s3.replace(',','')),\n",
    "     list(s4.replace(',','')),list(s5.replace(',','')),list(s6.replace(',','')),list(s7.replace(',',''))]\n",
    "lst"
   ]
  },
  {
   "cell_type": "code",
   "execution_count": 3,
   "id": "eb7111ec",
   "metadata": {},
   "outputs": [
    {
     "data": {
      "text/plain": [
       "[['A', 'T', 'C', 'C', 'A', 'G', 'C', 'T'],\n",
       " ['G', 'G', 'G', 'C', 'A', 'A', 'C', 'T'],\n",
       " ['A', 'T', 'G', 'G', 'A', 'T', 'C', 'T'],\n",
       " ['A', 'A', 'G', 'C', 'A', 'A', 'C', 'C'],\n",
       " ['T', 'T', 'G', 'G', 'A', 'A', 'C', 'T'],\n",
       " ['A', 'T', 'G', 'C', 'C', 'A', 'T', 'T'],\n",
       " ['A', 'T', 'G', 'G', 'C', 'A', 'C', 'T']]"
      ]
     },
     "execution_count": 3,
     "metadata": {},
     "output_type": "execute_result"
    }
   ],
   "source": [
    "for t in range(len(lst)):\n",
    "    lst[t]= [elem for elem in lst[t] if elem !=' ']\n",
    "lst"
   ]
  },
  {
   "cell_type": "code",
   "execution_count": null,
   "id": "ea885573",
   "metadata": {},
   "outputs": [],
   "source": [
    " "
   ]
  },
  {
   "cell_type": "code",
   "execution_count": 4,
   "id": "9cf82395",
   "metadata": {},
   "outputs": [
    {
     "data": {
      "text/plain": [
       "array([['A', 'T', 'C', 'C', 'A', 'G', 'C', 'T'],\n",
       "       ['G', 'G', 'G', 'C', 'A', 'A', 'C', 'T'],\n",
       "       ['A', 'T', 'G', 'G', 'A', 'T', 'C', 'T'],\n",
       "       ['A', 'A', 'G', 'C', 'A', 'A', 'C', 'C'],\n",
       "       ['T', 'T', 'G', 'G', 'A', 'A', 'C', 'T'],\n",
       "       ['A', 'T', 'G', 'C', 'C', 'A', 'T', 'T'],\n",
       "       ['A', 'T', 'G', 'G', 'C', 'A', 'C', 'T']], dtype='<U1')"
      ]
     },
     "execution_count": 4,
     "metadata": {},
     "output_type": "execute_result"
    }
   ],
   "source": [
    "import numpy as np\n",
    "dna=np.array(lst)\n",
    "dna\n"
   ]
  },
  {
   "cell_type": "code",
   "execution_count": 5,
   "id": "e07ecd19",
   "metadata": {},
   "outputs": [
    {
     "data": {
      "text/plain": [
       "5"
      ]
     },
     "execution_count": 5,
     "metadata": {},
     "output_type": "execute_result"
    }
   ],
   "source": [
    "np.count_nonzero(dna[:,1]=='T')"
   ]
  },
  {
   "cell_type": "code",
   "execution_count": 28,
   "id": "1e62ede5",
   "metadata": {},
   "outputs": [
    {
     "data": {
      "text/plain": [
       "array(['A', 'C', 'G', 'T'], dtype='<U1')"
      ]
     },
     "execution_count": 28,
     "metadata": {},
     "output_type": "execute_result"
    }
   ],
   "source": [
    "elems=np.unique(dna,return_counts=True)[0]\n",
    "elems"
   ]
  },
  {
   "cell_type": "code",
   "execution_count": 29,
   "id": "35c928b2",
   "metadata": {},
   "outputs": [],
   "source": [
    "cons=[] \n",
    "consent={str(el):[] for el in elems}\n",
    "for el in elems : \n",
    "     \n",
    "    for col in range(dna.shape[1]):\n",
    "        consent[el].append(np.count_nonzero(dna[:,col]==el))\n",
    "        consent    \n",
    "\n"
   ]
  },
  {
   "cell_type": "code",
   "execution_count": null,
   "id": "497af580",
   "metadata": {},
   "outputs": [],
   "source": [
    " "
   ]
  },
  {
   "cell_type": "code",
   "execution_count": null,
   "id": "827f2b08",
   "metadata": {},
   "outputs": [],
   "source": [
    " "
   ]
  },
  {
   "cell_type": "code",
   "execution_count": 31,
   "id": "eed5a185",
   "metadata": {},
   "outputs": [
    {
     "name": "stdout",
     "output_type": "stream",
     "text": [
      "Consensus: CAAACCTCCGCTCCGTACAATAGTTAGCAGCTCTATTAACCCGATTACAGTCCCGTAACAAAACAGAGATCCATCAAGAGCGGCAACCGGACCCCCCGAAGGGAAGAACAGATCATATAAAATACCGCCAACGGCTTGAGCCTATAACACGGAACACATAATCCACAGACGCTTACAAAGCACTGGGAACATCAAGATTTTTGAGCTAATTCAAGCCTTGCTTTCTCGAGCCGTGCTGTGACTCACATCACAAAGGCTTAAGATTCAAATCGTAGACTACTAACGCTAAAACAGATCCAAGAACGATCGTACTAATGACTAAAACACTTAACGCCGTGCTCAGTAAGGGCACCAAGAGAACTACTTGGCGGCGACTTGTTTCCACTACCCGCTAAACCGATGAGAAGCAGCGTGAATCTGGGCAATCCAAACAAAGTAAGTCCACTAGCATTTTTTGAAAACTATGTAAGGCGCCCCTAATACGCTATGGCCAAACGAGCTCCGCAAATACAGCCAAACGAAACAATACGCGGGCCCCCCGCAAGTGCACGGGCAACCTGTCCCAGGACGAGTCGCGTGAGGCCTAGAGTCGAACCTACGCACTAGGCTCGCAATTAACCCTAACACGCATTAATATTACGACATAAAAATATCGACGCCGATAAACCCACCGTCTCTTGAACGTATTTGGACCGCATTGAACGTCCTTACGCACCGCCACATATCCCTTGAGGGGAAAAGCGCTAGCCGTACGAAAAGTAATACACGCCACCGGAATAAAGGTCAAGGCCTAAGAGAGATTTTCAATTTCAAGCGTTACTTCTATGGCCGTATACAAGTCAGAATCTCCCCGGCGCACAAGCAGTGGAACAACACTACCATTATCAACCCACTTGAAAAGAGCATCCATTAAGTGACCAAAGCTCCGTACGGTTCCACTGGTTCTCGCACCAGCA\n"
     ]
    }
   ],
   "source": [
    "# Define the profile matrix\n",
    "profile=consent\n",
    "\n",
    "def get_consensus(profile):\n",
    "    # Check if the profile dictionary is empty.\n",
    "    if not profile:\n",
    "        print(\"The profile matrix is empty!\")\n",
    "        return \"\"\n",
    "    \n",
    "    # Determine the number of columns. Assumes all lists have the same length.\n",
    "    num_columns = len(next(iter(profile.values())))\n",
    "    consensus = \"\"\n",
    "    \n",
    "    # Process each column (position) separately.\n",
    "    for i in range(num_columns):\n",
    "        # Build a dictionary for the current column: nucleotide => count.\n",
    "        column_counts = {}\n",
    "        for nucleotide in profile:\n",
    "            column_counts[nucleotide] = profile[nucleotide][i]\n",
    "        \n",
    "    \n",
    "        \n",
    "        # Determine the maximum count in the current column.\n",
    "        max_count = max(column_counts.values())\n",
    "        \n",
    "        # Get all nucleotides that have the max count.\n",
    "        # (If there is more than one, you'll have a tie.)\n",
    "        max_nucleotides = [nuc for nuc, count in column_counts.items() if count == max_count]\n",
    "        \n",
    "        # For consistency, if there's more than one (a tie),\n",
    "        # choose the lexicographically smallest nucleotide.\n",
    "        chosen_nucleotide = sorted(max_nucleotides)[0]\n",
    "        consensus += chosen_nucleotide\n",
    "    \n",
    "    return consensus\n",
    "\n",
    "# Compute and print the consensus sequence.\n",
    "result = get_consensus(profile)\n",
    "print(\"Consensus:\", result)"
   ]
  },
  {
   "cell_type": "code",
   "execution_count": 32,
   "id": "e7c326b7",
   "metadata": {},
   "outputs": [
    {
     "name": "stdout",
     "output_type": "stream",
     "text": [
      "A: 1 4 3 3 1 0 2 2 1 2 3 2 2 2 3 1 3 2 4 5 3 3 1 1 2 5 1 1 5 2 2 1 3 3 4 1 3 4 4 2 1 3 3 4 1 1 3 1 4 2 2 3 0 1 1 1 5 3 1 5 4 5 4 2 4 1 3 3 3 1 2 2 5 2 2 6 4 2 3 2 2 3 3 1 4 3 0 1 2 1 4 0 2 3 1 1 2 3 4 4 2 3 1 4 4 2 3 4 2 3 2 4 2 2 4 3 4 2 4 4 4 5 1 4 1 3 3 2 2 3 4 2 2 2 2 3 2 1 5 2 3 2 2 5 0 4 4 2 3 2 2 3 4 5 2 7 1 4 2 3 3 1 2 2 4 2 3 3 3 3 2 2 1 1 5 2 5 4 5 1 2 4 2 3 2 2 2 4 5 2 4 0 2 3 4 0 6 3 1 2 2 3 0 4 2 1 2 5 4 1 1 3 4 4 3 0 3 1 3 2 1 2 1 2 2 3 0 2 4 3 2 2 2 3 2 0 2 1 0 1 5 2 1 0 6 2 4 2 1 6 0 5 3 3 1 2 2 3 3 3 3 1 5 2 1 1 4 4 5 1 1 1 1 4 2 4 3 2 3 1 2 3 5 2 3 1 1 3 3 3 5 2 3 3 4 2 1 2 5 4 2 4 3 0 1 5 3 1 1 1 5 2 2 3 4 1 3 4 2 1 3 3 4 4 3 4 3 3 2 3 5 1 1 2 2 1 2 3 2 2 1 3 1 2 6 3 0 2 1 2 3 2 2 5 4 2 4 2 4 3 2 1 4 2 2 1 1 1 2 2 2 2 2 4 0 1 0 0 3 2 2 2 2 3 2 1 3 3 2 2 3 2 1 4 4 7 1 2 3 4 1 2 4 2 3 5 1 2 4 2 3 1 0 0 3 5 2 2 2 1 2 2 0 5 3 2 1 0 4 6 3 3 3 4 3 2 2 3 5 1 3 3 2 4 3 2 4 1 3 4 3 2 3 3 3 0 2 3 4 4 3 2 1 5 2 0 2 4 3 1 1 3 2 2 2 2 3 2 5 4 2 4 1 1 1 2 5 2 3 1 2 1 4 4 3 2 2 3 2 2 2 1 3 1 2 4 3 5 2 4 2 6 3 1 4 5 4 4 2 2 4 3 5 1 3 3 1 3 2 2 0 1 4 2 1 3 3 0 2 3 2 1 4 6 2 3 2 3 3 1 3 2 2 1 4 7 2 1 2 2 2 1 2 1 6 1 2 4 1 1 4 2 2 1 3 2 1 1 1 3 3 2 2 3 0 5 1 4 2 2 3 0 5 5 2 1 1 5 2 2 3 5 1 2 6 2 2 2 2 3 0 3 4 4 0 3 3 5 2 0 1 1 6 4 2 3 2 2 3 3 3 2 3 5 3 3 3 2 3 1 1 5 0 3 1 4 3 4 3 3 2 3 1 2 1 4 2 2 1 2 1 4 1 4 3 3 2 3 2 4 1 2 1 1 2 3 2 2 3 2 3 4 2 2 1 6 1 2 2 0 2 4 0 0 1 2 4 2 3 2 4 4 3 3 3 1 3 3 2 5 2 3 1 4 2 2 3 2 1 4 2 4 2 4 2 1 2 2 2 1 2 3 2 1 0 2 5 5 3 4 1 3 1 1 1 4 1 2 2 1 3 4 2 2 3 4 4 3 3 2 5 6 1 4 1 3 3 1 1 2 3 0 2 2 2 4 4 3 4 4 4 1 2 2 2 3 4 3 0 1 2 2 4 3 1 5 3 4 2 3 2 2 2 3 2 3 3 0 2 3 0 3 7 1 2 1 2 2 4 2 1 1 3 1 5 2 0 3 2 2 1 2 4 1 3 2 3 3 3 1 2 5 1 4 5 2 2 3 2 1 2 2 4 3 3 3 2 4 2 4 4 2 3 3 2 2 3 2 4 3 2 3 4 2 4 1 1 5 2 1 3 1 2 3 0 2 3 3 2 2 3 4 1 1 1 2 3 5 4 3 2 3 2 3 4 2 0 0 3 3 3 3 6 0 3 1 4 3 2 4 5 4 2 1 3 0 2 1 3 5 0 2 2 1 0 0 1 5 1 2 1 2 3 3 1 1 1 2 1 7 1 1 5 2 1 4\n",
      "C: 3 2 2 2 3 5 0 5 5 0 4 3 4 4 1 3 2 4 2 2 3 2 1 2 3 2 3 4 0 0 5 3 4 3 2 3 0 2 3 4 4 5 1 2 2 3 3 3 2 2 2 4 5 4 3 2 2 2 5 3 3 2 0 5 2 3 2 3 3 2 5 5 2 2 3 2 2 1 3 2 3 0 1 4 2 2 4 4 2 3 2 4 3 4 4 5 4 2 4 4 2 3 2 2 0 1 2 0 3 2 1 0 1 3 2 3 1 1 1 1 2 1 4 2 4 4 2 4 4 3 2 4 1 2 4 0 1 3 3 2 4 3 0 2 3 2 3 4 2 5 2 0 4 1 4 1 4 2 2 3 3 3 3 3 3 4 3 0 2 5 2 4 2 1 3 4 0 3 2 3 3 2 3 3 1 2 2 0 3 3 3 1 3 3 2 3 0 1 0 1 2 2 2 1 1 3 1 2 1 2 2 4 3 2 1 4 5 1 2 2 5 2 2 1 3 2 7 2 2 1 3 3 2 0 2 5 0 3 3 3 2 5 2 4 1 4 0 3 3 0 5 3 3 3 3 3 4 1 2 3 2 2 3 1 3 6 0 4 1 3 5 3 3 2 3 0 4 1 3 5 2 2 2 3 1 4 1 3 2 2 2 3 3 1 3 3 5 4 1 2 2 0 3 5 1 0 1 3 3 3 4 3 1 3 0 2 2 1 3 3 3 2 2 1 4 0 4 1 2 3 2 4 2 4 4 2 2 1 3 1 4 2 3 3 0 1 2 1 1 3 3 5 4 0 1 2 2 0 1 3 5 1 2 5 1 2 1 2 3 2 2 4 2 4 4 4 2 2 1 0 2 4 3 2 4 2 3 4 6 3 0 3 2 3 1 0 4 3 1 1 3 0 0 2 2 1 1 4 1 2 4 3 3 3 2 2 3 3 2 1 2 2 6 2 3 1 3 5 0 1 1 4 2 2 2 3 2 1 2 1 1 4 3 1 4 1 3 1 5 1 2 3 2 2 1 2 3 3 4 3 2 3 3 1 1 4 2 3 3 3 2 4 3 3 4 5 4 3 2 1 1 2 6 3 4 1 3 1 2 3 4 4 3 0 1 3 2 2 2 6 2 4 4 3 4 1 2 3 1 3 3 3 0 3 5 0 2 3 3 0 1 3 0 4 3 2 2 3 5 2 7 2 1 1 5 4 4 4 5 4 0 4 2 1 1 0 1 4 3 7 3 1 2 4 4 2 3 5 1 3 1 5 3 3 1 4 1 2 5 2 2 1 3 4 1 3 2 2 1 2 1 0 3 4 3 1 3 2 2 3 4 3 0 1 4 5 2 0 3 2 4 2 5 2 2 3 1 4 2 5 2 6 2 2 2 1 3 2 3 4 5 3 2 4 3 3 4 2 4 1 2 3 2 1 2 2 1 3 3 4 3 2 6 3 2 3 3 4 3 3 2 3 2 5 0 2 3 1 4 5 1 2 3 2 2 2 4 4 4 4 4 5 3 3 4 2 4 2 1 2 2 2 4 3 2 2 2 1 3 2 3 1 5 4 3 5 3 2 2 1 1 3 4 2 0 4 4 2 2 2 4 3 5 4 3 4 2 4 5 3 4 2 2 2 1 4 3 4 1 2 2 3 2 2 1 2 1 2 3 3 3 4 1 4 0 3 3 5 3 3 1 2 6 2 3 3 2 2 2 3 2 1 3 2 4 3 5 1 5 3 3 4 3 0 3 3 4 2 1 4 3 2 1 1 4 3 2 2 3 5 3 1 4 2 0 2 1 3 0 3 2 1 3 2 5 2 3 1 1 2 5 1 0 3 3 3 1 1 0 4 3 3 4 2 2 1 3 2 4 3 2 1 2 3 3 4 3 3 2 3 3 1 3 3 1 1 4 2 4 4 4 4 0 1 5 1 3 2 4 0 2 3 4 3 1 1 1 2 3 2 4 3 1 3 4 4 1 1 4 4 2 2 3 1 3 3 2 2 4 3 4 2 5 2 1 2 2 2 2 3 2 2 2 5 2 3 6 7 3 1 1 1 1 2 0 3 2 4 4 2 2 3 2 3 3 5 5 2 1 2 4 2 2 3 1 5 4 2 6 1 2 2 0 0 3 2 5 2 4 1 4 4 2 1 3 3\n",
      "G: 3 3 3 3 3 1 3 1 4 6 1 1 4 0 5 2 3 3 1 0 0 2 5 3 1 2 4 3 2 4 3 2 0 0 2 1 0 2 2 3 2 1 4 4 3 2 3 3 0 3 2 3 3 4 5 2 0 3 2 1 2 0 2 1 3 4 3 4 3 2 2 3 2 2 3 2 1 5 2 4 2 6 5 2 3 3 4 2 5 5 1 2 2 3 3 0 0 4 1 0 4 4 5 2 3 4 3 3 2 3 5 2 0 2 4 0 2 3 3 4 1 4 0 3 3 1 5 1 2 3 0 1 4 4 1 2 3 5 1 3 2 3 3 0 2 1 3 3 3 2 4 4 2 1 1 2 3 1 2 3 3 1 3 2 2 2 1 5 3 1 3 3 2 2 0 0 3 3 0 4 2 2 3 0 4 4 5 3 2 3 1 4 2 1 0 5 1 2 3 3 2 0 5 2 5 3 2 0 3 3 3 2 0 2 4 2 0 3 1 3 3 2 3 3 3 1 2 5 2 4 2 2 4 2 5 1 3 6 3 6 2 2 3 3 3 2 3 1 3 3 3 2 1 3 4 4 2 2 1 1 2 6 2 3 1 2 2 0 1 2 3 4 2 3 4 3 2 3 2 2 0 3 1 2 4 3 2 2 3 3 3 2 1 4 1 1 1 4 3 0 4 4 1 2 4 4 1 3 4 2 1 2 3 3 4 3 4 1 3 1 2 2 2 4 3 2 2 1 2 2 1 3 4 2 3 4 2 4 2 1 1 3 5 1 2 3 6 4 6 2 3 0 3 2 3 3 1 4 2 3 3 3 3 2 3 1 4 4 3 4 5 2 3 2 4 0 3 7 1 2 2 3 2 2 2 3 2 1 0 3 6 2 2 1 1 1 1 3 4 2 2 6 2 4 2 2 4 3 3 3 0 4 3 4 3 2 1 2 2 7 3 3 2 0 2 1 3 3 4 3 3 2 2 0 2 4 2 3 1 5 2 2 2 4 1 3 1 5 0 3 1 1 1 1 2 3 4 3 1 0 3 2 2 2 3 5 2 2 2 4 4 3 5 3 3 0 2 0 1 3 3 3 2 4 3 2 2 2 4 5 0 2 3 3 3 3 3 2 4 2 2 3 1 4 4 2 2 1 3 1 2 1 4 3 0 0 3 2 2 5 3 3 3 3 2 2 3 1 0 3 1 5 5 4 0 2 1 3 1 1 4 2 2 3 5 1 4 1 2 0 4 4 5 2 1 1 2 4 2 4 3 2 3 3 0 5 5 1 2 5 1 4 1 3 4 3 6 3 4 2 5 8 3 1 3 3 4 3 4 1 1 4 2 3 2 0 3 3 2 4 1 0 2 2 0 4 5 2 1 2 4 0 3 2 3 2 2 1 3 2 3 2 1 1 3 1 2 3 2 3 1 0 2 2 0 2 2 0 1 3 4 0 3 2 2 0 1 1 3 3 2 2 2 1 6 3 2 4 1 1 4 3 2 0 2 3 1 1 3 2 2 1 6 0 1 0 2 2 2 4 3 1 2 4 2 1 0 3 0 6 5 2 1 3 4 2 1 2 1 5 2 0 1 4 2 4 3 1 1 1 2 4 2 1 2 3 4 0 1 1 2 3 2 3 3 3 2 1 2 3 4 2 3 5 7 3 1 0 1 3 4 2 4 3 4 3 4 0 2 6 0 4 1 6 3 3 2 2 4 1 2 3 1 2 1 1 1 7 1 2 3 4 3 5 4 2 0 1 2 0 3 5 6 2 0 1 3 4 4 3 2 3 1 3 5 2 4 2 6 2 1 3 1 1 2 2 1 3 1 1 3 3 2 4 3 4 2 0 4 4 2 2 3 2 1 2 5 5 4 3 4 2 2 2 2 2 2 2 4 2 2 2 4 0 1 2 3 1 0 2 2 2 5 4 0 6 3 2 3 2 2 4 0 1 6 2 5 4 1 2 1 1 2 2 0 1 3 3 3 2 3 3 1 3 2 3 3 2 4 3 2 2 1 3 3 3 3 1 3 2 4 2 4 2 2 1 2 2 3 2 1 3 0 4 2 4 3 1 2 2 2 3 3 3 0 2 1 4 2 1 4 3 3 1 3 3 3 1 2 2 6 3 1 2 3 2 0 3 4 0 2 2 2 4 3 3\n",
      "T: 3 1 2 2 3 4 5 2 0 2 2 4 0 4 1 4 2 1 3 3 4 3 3 4 4 1 2 2 3 4 0 4 3 4 2 5 7 2 1 1 3 1 2 0 4 4 1 3 4 3 4 0 2 1 1 5 3 2 2 1 1 3 4 2 1 2 2 0 1 5 1 0 1 4 2 0 3 2 2 2 3 1 1 3 1 2 2 3 1 1 3 4 3 0 2 4 4 1 1 2 2 0 2 2 3 3 2 3 3 2 2 4 7 3 0 4 3 4 2 1 3 0 5 1 2 2 0 3 2 1 4 3 3 2 3 5 4 1 1 3 1 2 5 3 5 3 0 1 2 1 2 3 0 3 3 0 2 3 4 1 1 5 2 3 1 2 3 2 2 1 3 1 5 6 2 4 2 0 3 2 3 2 2 4 3 2 1 3 0 2 2 5 3 3 4 2 3 4 6 4 4 5 3 3 2 3 5 3 2 4 4 1 3 2 2 4 2 5 4 3 1 4 4 4 2 4 1 1 2 2 3 3 2 5 1 4 5 0 4 0 1 1 4 3 0 2 3 4 3 1 2 0 3 1 2 1 2 4 4 3 3 1 0 4 5 1 4 2 3 4 1 2 4 1 1 3 1 4 2 2 6 2 2 3 2 2 6 2 2 2 0 3 3 2 2 4 3 0 1 4 2 2 3 3 4 1 5 3 2 4 0 3 4 1 2 4 1 4 2 5 2 3 2 1 0 4 1 5 4 2 2 2 3 2 1 3 4 2 3 6 4 2 1 4 2 3 2 3 2 3 1 3 1 3 2 3 3 4 3 1 0 5 1 1 4 6 4 3 2 2 1 2 3 0 2 5 5 1 5 6 4 1 3 3 2 4 2 2 2 2 1 3 5 2 4 2 4 2 2 3 4 2 4 2 3 2 4 1 2 3 3 2 4 3 2 1 4 3 4 1 3 3 2 3 2 6 3 2 2 0 3 1 3 4 3 1 4 3 2 3 4 1 3 1 2 4 2 3 2 2 4 4 4 4 4 5 1 1 1 3 2 3 4 2 4 1 4 1 2 2 3 0 0 2 1 3 1 5 2 2 4 1 1 2 2 5 0 5 1 1 4 3 0 3 3 2 3 3 2 0 4 2 2 2 0 3 3 1 4 2 3 0 3 3 1 5 1 1 3 3 2 1 2 2 2 3 4 3 3 3 2 2 0 3 4 1 2 3 2 2 4 3 2 0 2 6 3 2 2 2 0 3 1 3 1 0 3 0 5 1 4 2 2 3 3 0 2 3 2 2 3 3 4 2 2 2 1 4 4 3 1 0 2 2 4 1 2 1 2 4 2 3 3 1 2 4 4 2 3 2 2 3 2 4 2 1 2 2 5 0 4 1 1 2 5 4 2 2 2 4 1 4 1 1 2 3 2 3 1 3 4 5 3 2 5 3 4 5 3 2 2 3 1 2 5 3 3 1 1 1 4 2 5 2 3 1 3 3 4 2 4 1 4 4 3 2 3 2 1 0 3 2 0 6 3 5 2 4 4 2 2 3 2 1 5 1 7 4 5 2 0 3 4 3 2 1 2 4 4 2 3 3 2 1 5 1 0 4 5 2 2 0 2 1 3 1 1 4 3 2 2 1 4 1 4 2 3 3 5 4 2 2 3 2 2 3 3 3 3 0 2 1 4 2 5 0 2 3 3 0 6 0 1 0 1 0 2 3 1 4 1 0 5 2 4 3 1 1 3 3 1 2 2 3 1 1 2 4 3 2 0 2 1 5 4 3 1 1 3 1 3 4 1 2 4 1 2 1 2 2 5 4 4 4 1 3 3 6 6 4 2 3 1 2 2 2 5 7 2 0 4 4 0 5 2 5 2 0 0 2 3 5 2 4 2 2 2 2 1 4 3 2 2 3 3 5 1 4 4 3 2 2 1 2 2 0 2 2 1 4 2 1 3 3 1 5 1 2 2 3 3 3 3 3 2 4 5 1 1 3 2 4 4 3 5 2 2 3 0 2 1 2 3 4 5 3 2 2 1 2 2 3 2 0 2 4 2 1 1 4 5 3 3 4 5 2 1 2 2 2 1 0 3 3 4 3 2 3 4 2 2 3 3 5 6 2 2 2 1 5 1 3 6 5 3 5 4 3 1 2 3 3 1 3 3 0\n"
     ]
    }
   ],
   "source": [
    "# Iterate over each key-value pair dynamically.\n",
    "for key, values in consent.items():\n",
    "    # Create a string from the list of values.\n",
    "    values_str = \" \".join(str(num) for num in values)\n",
    "    print(f\"{key}: {values_str}\")"
   ]
  },
  {
   "cell_type": "code",
   "execution_count": 21,
   "id": "2725e39a",
   "metadata": {},
   "outputs": [],
   "source": [
    "import sys\n",
    "file=open('rosalind_cons (1).txt')\n",
    "string=file.read()\n",
    "def gc_content(string):\n",
    "    n_g=string.count('G')\n",
    "    n_c=string.count('C')\n",
    "    n_gc=n_g+n_c\n",
    "    return n_gc/len(string)*100\n",
    "\n",
    "ids=[]\n",
    "dnas=[]\n",
    "for i in range(len(string.split('>'))):\n",
    "    ids.append(string.split('>')[i].split('\\n')[0])\n",
    "    dnas.append(\",\".join(string.split('>')[i].split('\\n')[1:len(string.split('>')[1].split('\\n'))-1]))\n",
    "dnas=[dna.replace(',','')for dna in dnas]\n",
    "ids=ids[1:]\n",
    "dnas=dnas[1:]"
   ]
  },
  {
   "cell_type": "code",
   "execution_count": 22,
   "id": "2043f465",
   "metadata": {},
   "outputs": [],
   "source": [
    "dnas=[list(d) for d in dnas]\n",
    "dna=np.array(dnas)"
   ]
  },
  {
   "cell_type": "code",
   "execution_count": 23,
   "id": "f89a75d5",
   "metadata": {},
   "outputs": [
    {
     "data": {
      "text/plain": [
       "array([['A', 'A', 'A', ..., 'C', 'A', 'A'],\n",
       "       ['G', 'A', 'C', ..., 'G', 'G', 'G'],\n",
       "       ['G', 'G', 'G', ..., 'A', 'G', 'C'],\n",
       "       ...,\n",
       "       ['T', 'C', 'T', ..., 'G', 'C', 'C'],\n",
       "       ['C', 'C', 'A', ..., 'G', 'G', 'A'],\n",
       "       ['T', 'G', 'C', ..., 'T', 'T', 'G']], dtype='<U1')"
      ]
     },
     "execution_count": 23,
     "metadata": {},
     "output_type": "execute_result"
    }
   ],
   "source": [
    "dna"
   ]
  },
  {
   "cell_type": "code",
   "execution_count": 24,
   "id": "fb1eec6c",
   "metadata": {},
   "outputs": [
    {
     "data": {
      "text/plain": [
       "(10, 956)"
      ]
     },
     "execution_count": 24,
     "metadata": {},
     "output_type": "execute_result"
    }
   ],
   "source": [
    "dna.shape"
   ]
  },
  {
   "cell_type": "code",
   "execution_count": 33,
   "id": "aed055fa",
   "metadata": {},
   "outputs": [],
   "source": [
    "import cv2"
   ]
  },
  {
   "cell_type": "code",
   "execution_count": 34,
   "id": "616773e7",
   "metadata": {},
   "outputs": [],
   "source": [
    "import pandas as pd\n",
    "import numpy as np"
   ]
  },
  {
   "cell_type": "code",
   "execution_count": 35,
   "id": "4821d414",
   "metadata": {},
   "outputs": [],
   "source": [
    "import os\n",
    "os.chdir('train')"
   ]
  },
  {
   "cell_type": "code",
   "execution_count": 413,
   "id": "6312f2b3",
   "metadata": {},
   "outputs": [
    {
     "name": "stdout",
     "output_type": "stream",
     "text": [
      "PERFORMING IMAGE NUMBER  filename    0674_jpg.rf.e02a155a0c135687b9301ff9a20d220a.jpg\n",
      "width                                                    512\n",
      "height                                                   256\n",
      "class                                                Implant\n",
      "xmin                                                     175\n",
      "ymin                                                     116\n",
      "xmax                                                     206\n",
      "ymax                                                     153\n",
      "Name: 0, dtype: object\n",
      "PERFORMING IMAGE NUMBER  filename    0674_jpg.rf.e02a155a0c135687b9301ff9a20d220a.jpg\n",
      "width                                                    512\n",
      "height                                                   256\n",
      "class                                               Fillings\n",
      "xmin                                                     170\n",
      "ymin                                                     109\n",
      "xmax                                                     189\n",
      "ymax                                                     133\n",
      "Name: 1, dtype: object\n",
      "PERFORMING IMAGE NUMBER  filename    0674_jpg.rf.e02a155a0c135687b9301ff9a20d220a.jpg\n",
      "width                                                    512\n",
      "height                                                   256\n",
      "class                                                Implant\n",
      "xmin                                                     221\n",
      "ymin                                                     124\n",
      "xmax                                                     257\n",
      "ymax                                                     178\n",
      "Name: 2, dtype: object\n",
      "PERFORMING IMAGE NUMBER  filename    0674_jpg.rf.e02a155a0c135687b9301ff9a20d220a.jpg\n",
      "width                                                    512\n",
      "height                                                   256\n",
      "class                                                Implant\n",
      "xmin                                                     302\n",
      "ymin                                                     126\n",
      "xmax                                                     329\n",
      "ymax                                                     175\n",
      "Name: 3, dtype: object\n"
     ]
    },
    {
     "ename": "KeyboardInterrupt",
     "evalue": "",
     "output_type": "error",
     "traceback": [
      "\u001b[1;31m---------------------------------------------------------------------------\u001b[0m",
      "\u001b[1;31mKeyboardInterrupt\u001b[0m                         Traceback (most recent call last)",
      "Cell \u001b[1;32mIn[413], line 26\u001b[0m\n\u001b[0;32m     24\u001b[0m \u001b[38;5;28;01mfor\u001b[39;00m el \u001b[38;5;129;01min\u001b[39;00m elems : \n\u001b[0;32m     25\u001b[0m     \u001b[38;5;28;01mfor\u001b[39;00m col \u001b[38;5;129;01min\u001b[39;00m \u001b[38;5;28mrange\u001b[39m(dna\u001b[38;5;241m.\u001b[39mshape[\u001b[38;5;241m1\u001b[39m]):\n\u001b[1;32m---> 26\u001b[0m         profile[el]\u001b[38;5;241m.\u001b[39mappend(\u001b[43mnp\u001b[49m\u001b[38;5;241;43m.\u001b[39;49m\u001b[43mcount_nonzero\u001b[49m\u001b[43m(\u001b[49m\u001b[43mdna\u001b[49m\u001b[43m[\u001b[49m\u001b[43m:\u001b[49m\u001b[43m,\u001b[49m\u001b[43mcol\u001b[49m\u001b[43m]\u001b[49m\u001b[38;5;241;43m==\u001b[39;49m\u001b[43mel\u001b[49m\u001b[43m)\u001b[49m)\n\u001b[0;32m     28\u001b[0m result \u001b[38;5;241m=\u001b[39m get_consensus(profile)\n\u001b[0;32m     30\u001b[0m \u001b[38;5;66;03m#print(\"Consensus:\", result)\u001b[39;00m\n",
      "File \u001b[1;32m~\\AppData\\Local\\Programs\\Python\\Python310\\lib\\site-packages\\numpy\\core\\numeric.py:415\u001b[0m, in \u001b[0;36mcount_nonzero\u001b[1;34m(a, axis, keepdims)\u001b[0m\n\u001b[0;32m    411\u001b[0m \u001b[38;5;28;01mdef\u001b[39;00m \u001b[38;5;21m_count_nonzero_dispatcher\u001b[39m(a, axis\u001b[38;5;241m=\u001b[39m\u001b[38;5;28;01mNone\u001b[39;00m, \u001b[38;5;241m*\u001b[39m, keepdims\u001b[38;5;241m=\u001b[39m\u001b[38;5;28;01mNone\u001b[39;00m):\n\u001b[0;32m    412\u001b[0m     \u001b[38;5;28;01mreturn\u001b[39;00m (a,)\n\u001b[1;32m--> 415\u001b[0m \u001b[38;5;129m@array_function_dispatch\u001b[39m(_count_nonzero_dispatcher)\n\u001b[0;32m    416\u001b[0m \u001b[38;5;28;01mdef\u001b[39;00m \u001b[38;5;21mcount_nonzero\u001b[39m(a, axis\u001b[38;5;241m=\u001b[39m\u001b[38;5;28;01mNone\u001b[39;00m, \u001b[38;5;241m*\u001b[39m, keepdims\u001b[38;5;241m=\u001b[39m\u001b[38;5;28;01mFalse\u001b[39;00m):\n\u001b[0;32m    417\u001b[0m     \u001b[38;5;124;03m\"\"\"\u001b[39;00m\n\u001b[0;32m    418\u001b[0m \u001b[38;5;124;03m    Counts the number of non-zero values in the array ``a``.\u001b[39;00m\n\u001b[0;32m    419\u001b[0m \n\u001b[1;32m   (...)\u001b[0m\n\u001b[0;32m    473\u001b[0m \u001b[38;5;124;03m           [3]])\u001b[39;00m\n\u001b[0;32m    474\u001b[0m \u001b[38;5;124;03m    \"\"\"\u001b[39;00m\n\u001b[0;32m    475\u001b[0m     \u001b[38;5;28;01mif\u001b[39;00m axis \u001b[38;5;129;01mis\u001b[39;00m \u001b[38;5;28;01mNone\u001b[39;00m \u001b[38;5;129;01mand\u001b[39;00m \u001b[38;5;129;01mnot\u001b[39;00m keepdims:\n",
      "\u001b[1;31mKeyboardInterrupt\u001b[0m: "
     ]
    }
   ],
   "source": [
    "annotations = pd.read_csv('_annotations.csv')\n",
    " \n",
    "# Prepare images and labels\n",
    "images, labels = [], []\n",
    "for _, row in annotations.iterrows():\n",
    "    img = cv2.imread(row['filename'])\n",
    "    print(\"PERFORMING IMAGE NUMBER \",row)\n",
    "    if img is not None:\n",
    "        #img = cv2.resize(img, (256, 256))\n",
    "        #images.append(img)\n",
    "        labels.append(row['class'])\n",
    "        img=cv2.cvtColor(img, cv2.COLOR_RGB2GRAY)\n",
    "        pixel_consent=[]\n",
    "        for row in range(255):\n",
    "            array_np=img[row]\n",
    "           \n",
    "            array_2d = array_np.reshape(8, 64)\n",
    "            dna=np.array(array_2d)\n",
    "            dna=dna.astype(str)\n",
    "            elems=np.unique(dna,return_counts=True)[0]\n",
    "            elems=elems.astype(str)\n",
    "             \n",
    "            profile={el:[] for el in elems}\n",
    "            for el in elems : \n",
    "                for col in range(dna.shape[1]):\n",
    "                    profile[el].append(np.count_nonzero(dna[:,col]==el))\n",
    "            \n",
    "            result = get_consensus(profile)\n",
    "             \n",
    "            #print(\"Consensus:\", result)\n",
    "            pixel_consent.append(result.split(','))\n",
    "    pixel_consent=np.array(pixel_consent)\n",
    "    images.append(pixel_consent)\n",
    "            \n",
    "\n",
    "\n",
    "\n",
    " "
   ]
  },
  {
   "cell_type": "code",
   "execution_count": 418,
   "id": "431928f3",
   "metadata": {},
   "outputs": [
    {
     "name": "stdout",
     "output_type": "stream",
     "text": [
      "PERFORMING IMAGE NUMBER 0674_jpg.rf.e02a155a0c135687b9301ff9a20d220a.jpg\n",
      "PERFORMING IMAGE NUMBER 0674_jpg.rf.e02a155a0c135687b9301ff9a20d220a.jpg\n",
      "PERFORMING IMAGE NUMBER 0674_jpg.rf.e02a155a0c135687b9301ff9a20d220a.jpg\n"
     ]
    },
    {
     "ename": "KeyboardInterrupt",
     "evalue": "",
     "output_type": "error",
     "traceback": [
      "\u001b[1;31m---------------------------------------------------------------------------\u001b[0m",
      "\u001b[1;31mKeyboardInterrupt\u001b[0m                         Traceback (most recent call last)",
      "Cell \u001b[1;32mIn[418], line 71\u001b[0m\n\u001b[0;32m     69\u001b[0m \u001b[38;5;28;01mfor\u001b[39;00m el \u001b[38;5;129;01min\u001b[39;00m unique_elems:\n\u001b[0;32m     70\u001b[0m     \u001b[38;5;28;01mfor\u001b[39;00m col \u001b[38;5;129;01min\u001b[39;00m \u001b[38;5;28mrange\u001b[39m(dna\u001b[38;5;241m.\u001b[39mshape[\u001b[38;5;241m1\u001b[39m]):\n\u001b[1;32m---> 71\u001b[0m         count \u001b[38;5;241m=\u001b[39m \u001b[43mnp\u001b[49m\u001b[38;5;241;43m.\u001b[39;49m\u001b[43mcount_nonzero\u001b[49m\u001b[43m(\u001b[49m\u001b[43mdna\u001b[49m\u001b[43m[\u001b[49m\u001b[43m:\u001b[49m\u001b[43m,\u001b[49m\u001b[43m \u001b[49m\u001b[43mcol\u001b[49m\u001b[43m]\u001b[49m\u001b[43m \u001b[49m\u001b[38;5;241;43m==\u001b[39;49m\u001b[43m \u001b[49m\u001b[43mel\u001b[49m\u001b[43m)\u001b[49m\n\u001b[0;32m     72\u001b[0m         profile[el]\u001b[38;5;241m.\u001b[39mappend(count)\n\u001b[0;32m     74\u001b[0m result \u001b[38;5;241m=\u001b[39m get_consensus(profile)\n",
      "File \u001b[1;32m~\\AppData\\Local\\Programs\\Python\\Python310\\lib\\site-packages\\numpy\\core\\numeric.py:415\u001b[0m, in \u001b[0;36mcount_nonzero\u001b[1;34m(a, axis, keepdims)\u001b[0m\n\u001b[0;32m    411\u001b[0m \u001b[38;5;28;01mdef\u001b[39;00m \u001b[38;5;21m_count_nonzero_dispatcher\u001b[39m(a, axis\u001b[38;5;241m=\u001b[39m\u001b[38;5;28;01mNone\u001b[39;00m, \u001b[38;5;241m*\u001b[39m, keepdims\u001b[38;5;241m=\u001b[39m\u001b[38;5;28;01mNone\u001b[39;00m):\n\u001b[0;32m    412\u001b[0m     \u001b[38;5;28;01mreturn\u001b[39;00m (a,)\n\u001b[1;32m--> 415\u001b[0m \u001b[38;5;129m@array_function_dispatch\u001b[39m(_count_nonzero_dispatcher)\n\u001b[0;32m    416\u001b[0m \u001b[38;5;28;01mdef\u001b[39;00m \u001b[38;5;21mcount_nonzero\u001b[39m(a, axis\u001b[38;5;241m=\u001b[39m\u001b[38;5;28;01mNone\u001b[39;00m, \u001b[38;5;241m*\u001b[39m, keepdims\u001b[38;5;241m=\u001b[39m\u001b[38;5;28;01mFalse\u001b[39;00m):\n\u001b[0;32m    417\u001b[0m     \u001b[38;5;124;03m\"\"\"\u001b[39;00m\n\u001b[0;32m    418\u001b[0m \u001b[38;5;124;03m    Counts the number of non-zero values in the array ``a``.\u001b[39;00m\n\u001b[0;32m    419\u001b[0m \n\u001b[1;32m   (...)\u001b[0m\n\u001b[0;32m    473\u001b[0m \u001b[38;5;124;03m           [3]])\u001b[39;00m\n\u001b[0;32m    474\u001b[0m \u001b[38;5;124;03m    \"\"\"\u001b[39;00m\n\u001b[0;32m    475\u001b[0m     \u001b[38;5;28;01mif\u001b[39;00m axis \u001b[38;5;129;01mis\u001b[39;00m \u001b[38;5;28;01mNone\u001b[39;00m \u001b[38;5;129;01mand\u001b[39;00m \u001b[38;5;129;01mnot\u001b[39;00m keepdims:\n",
      "\u001b[1;31mKeyboardInterrupt\u001b[0m: "
     ]
    }
   ],
   "source": [
    "import cv2\n",
    "import pandas as pd\n",
    "import numpy as np\n",
    "\n",
    "# Make sure that get_consensus is defined as previously fixed.\n",
    "\n",
    "def get_consensus(profile):\n",
    "    # Check if the profile dictionary is empty.\n",
    "    if not profile:\n",
    "        print(\"The profile matrix is empty!\")\n",
    "        return \"\"\n",
    "    \n",
    "    # Determine the number of columns. Assumes all lists have the same length.\n",
    "    num_columns = len(next(iter(profile.values())))\n",
    "    consensus_list = []\n",
    "    \n",
    "    # Process each column\n",
    "    for j in range(num_columns):\n",
    "        # Build a dictionary for the current column: pixel value => count.\n",
    "        column_counts = {pixel: profile[pixel][j] for pixel in profile}\n",
    "        \n",
    "        # Determine the maximum count in the column.\n",
    "        max_count = max(column_counts.values())\n",
    "        \n",
    "        # Get all pixel values that have the maximum count.\n",
    "        max_pixels = [pixel for pixel, count in column_counts.items() if count == max_count]\n",
    "        \n",
    "        # In case of a tie, choose the smallest value (as a string)\n",
    "        chosen_pixel = sorted(max_pixels)[0]\n",
    "        \n",
    "        consensus_list.append(str(chosen_pixel))\n",
    "    \n",
    "    # Return the consensus as a comma-separated string.\n",
    "    return ', '.join(consensus_list)\n",
    "\n",
    "# Read the annotations.\n",
    "annotations = pd.read_csv('_annotations.csv')\n",
    "\n",
    "# Prepare images and labels\n",
    "images, labels = [], []\n",
    "img_count=0\n",
    "for _, annotation_row in annotations.iterrows():\n",
    "    print(' doing image number ',img_count)\n",
    "    img_count=img_count+1\n",
    "    img = cv2.imread(annotation_row['filename'])\n",
    "  \n",
    "    if img is not None:\n",
    "        labels.append(annotation_row['class'])\n",
    "        # Use the correct color conversion for cv2 (BGR to GRAY)\n",
    "        img = cv2.cvtColor(img, cv2.COLOR_BGR2GRAY)\n",
    "        pixel_consensus = []\n",
    "        \n",
    "        # Make sure the image has at least 255 rows.\n",
    "        # Loop over rows using a variable 'i' instead of reusing 'row'\n",
    "        for i in range(255):\n",
    "            # Get row i of the image.\n",
    "            array_np = img[i]\n",
    "            \n",
    "            # Check that the row length matches expected size for reshaping to 8x64.\n",
    "            if array_np.size != 512:\n",
    "                continue  # Skip rows that don't match the desired size.\n",
    "            \n",
    "            array_2d = array_np.reshape(8, 64)\n",
    "            dna = array_2d.astype(str)\n",
    "            \n",
    "            # Get the unique pixel values in this 2D block.\n",
    "            unique_elems = np.unique(dna, return_counts=True)[0]\n",
    "            unique_elems = unique_elems.astype(str)\n",
    "            \n",
    "            # Build the profile dictionary.\n",
    "            profile = {el: [] for el in unique_elems}\n",
    "            for el in unique_elems:\n",
    "                for col in range(dna.shape[1]):\n",
    "                    count = np.count_nonzero(dna[:, col] == el)\n",
    "                    profile[el].append(count)\n",
    "            \n",
    "            result = get_consensus(profile)\n",
    "            \n",
    "            # Append the consensus values as a list.\n",
    "            pixel_consensus.append(result.split(','))\n",
    "        \n",
    "        # Convert the per-image consensus list to a NumPy array.\n",
    "        pixel_consensus = np.array(pixel_consensus)\n",
    "        images.append(pixel_consensus)"
   ]
  },
  {
   "cell_type": "code",
   "execution_count": 423,
   "id": "4b3ae71b",
   "metadata": {},
   "outputs": [
    {
     "data": {
      "text/plain": [
       "False"
      ]
     },
     "execution_count": 423,
     "metadata": {},
     "output_type": "execute_result"
    }
   ],
   "source": [
    "np.array_equiv(images[0],[2])"
   ]
  },
  {
   "cell_type": "code",
   "execution_count": 262,
   "id": "8741a555",
   "metadata": {},
   "outputs": [
    {
     "data": {
      "text/plain": [
       "(256, 512, 3)"
      ]
     },
     "execution_count": 262,
     "metadata": {},
     "output_type": "execute_result"
    }
   ],
   "source": [
    "img.shape"
   ]
  },
  {
   "cell_type": "code",
   "execution_count": 263,
   "id": "50386db6",
   "metadata": {},
   "outputs": [],
   "source": [
    "img=cv2.cvtColor(img, cv2.COLOR_RGB2GRAY)"
   ]
  },
  {
   "cell_type": "code",
   "execution_count": 378,
   "id": "ce27994e",
   "metadata": {},
   "outputs": [
    {
     "data": {
      "text/plain": [
       "array([255, 255, 255, 255, 255, 255, 255, 255, 255, 255, 255, 255, 255,\n",
       "       255, 255, 255, 255, 255, 255, 255, 255, 255, 255, 255, 255, 255,\n",
       "       255, 255, 255, 255, 255, 255, 255, 255, 255, 255, 255, 255, 255,\n",
       "       255, 255, 255, 255, 255, 255, 255, 255, 255, 255, 255, 255, 255,\n",
       "       255, 255, 255, 255, 255, 255, 255, 255, 255, 255, 255, 255, 255,\n",
       "       255, 255, 255, 255, 255, 255, 255, 255, 255, 255, 255, 255, 255,\n",
       "       255, 255, 255, 255, 255, 255, 255, 255, 255, 255, 255, 255, 255,\n",
       "       255, 255, 255, 255, 255, 255, 255, 255, 255, 255, 255, 255, 255,\n",
       "       255, 255, 255, 255, 255, 255, 255, 255, 255, 255, 255, 255, 255,\n",
       "       255, 255, 255, 255, 255, 255, 255, 255, 255, 255, 255, 255, 255,\n",
       "       255, 255, 255, 255, 255, 255, 255, 255, 255, 255, 255, 255, 255,\n",
       "       255, 255, 255, 255, 255, 255, 255, 255, 255, 255, 255, 255, 255,\n",
       "       255, 255, 255, 255, 255, 255, 255, 255, 255, 255, 255, 255, 255,\n",
       "       255, 255, 255, 255, 255, 255, 255, 255, 255, 255, 255, 255, 255,\n",
       "       255, 255, 255, 255, 255, 255, 255, 255, 255, 255, 255, 255, 255,\n",
       "       255, 255, 255, 255, 255, 255, 255, 255, 255, 255, 255, 255, 255,\n",
       "       255, 255, 255, 255, 255, 255, 255, 255, 255, 255, 255, 255, 255,\n",
       "       255, 255, 255, 255, 255, 255, 255, 255, 255, 255, 255, 255, 255,\n",
       "       255, 255, 255, 255, 255, 255, 255, 255, 255, 255, 255, 255, 255,\n",
       "       255, 255, 255, 255, 255, 255, 255, 255, 255, 255, 255, 255, 255,\n",
       "       255, 255, 255, 255, 255, 255, 255, 255, 255, 255, 255, 255, 255,\n",
       "       255, 255, 255, 255, 255, 255, 255, 255, 255, 255, 255, 255, 255,\n",
       "       255, 255, 255, 255, 255, 255, 255, 255, 255, 255, 255, 255, 255,\n",
       "       255, 255, 255, 255, 255, 255, 255, 255, 255, 255, 255, 255, 255,\n",
       "       255, 255, 255, 255, 255, 255, 255, 255, 255, 255, 255, 255, 255,\n",
       "       255, 255, 255, 255, 255, 255, 255, 255, 255, 255, 255, 255, 255,\n",
       "       255, 255, 255, 255, 255, 255, 255, 255, 255, 255, 255, 255, 255,\n",
       "       255, 255, 255, 255, 255, 255, 255, 255, 255, 255, 255, 255, 255,\n",
       "       255, 255, 255, 255, 255, 255, 255, 255, 255, 255, 255, 255, 255,\n",
       "       255, 255, 255, 255, 255, 255, 255, 255, 255, 255, 255, 255, 255,\n",
       "       255, 255, 255, 255, 255, 255, 255, 255, 255, 255, 255, 255, 255,\n",
       "       255, 255, 255, 255, 255, 255, 255, 255, 255, 255, 255, 255, 255,\n",
       "       255, 255, 255, 255, 255, 255, 255, 255, 255, 255, 255, 255, 255,\n",
       "       255, 255, 255, 255, 255, 255, 255, 255, 255, 255, 255, 255, 255,\n",
       "       255, 255, 255, 255, 255, 255, 255, 255, 255, 255, 255, 255, 255,\n",
       "       255, 255, 255, 255, 255, 255, 255, 255, 255, 255, 255, 255, 255,\n",
       "       255, 255, 255, 255, 255, 255, 255, 255, 255, 255, 255, 255, 255,\n",
       "       255, 255, 255, 255, 255, 255, 255, 255, 255, 255, 255, 255, 255,\n",
       "       255, 255, 255, 255, 255, 255, 255, 255, 255, 255, 255, 255, 255,\n",
       "       255, 255, 255, 255, 255], dtype=uint8)"
      ]
     },
     "execution_count": 378,
     "metadata": {},
     "output_type": "execute_result"
    }
   ],
   "source": [
    "array_np"
   ]
  },
  {
   "cell_type": "code",
   "execution_count": 401,
   "id": "8f1ea5cb",
   "metadata": {},
   "outputs": [],
   "source": [
    "pixel_consent=[]\n",
    "for row in range(255):\n",
    "    array_np=img[row]\n",
    "    array_np.shape\n",
    "    array_2d = array_np.reshape(8, 64)\n",
    "    dna=np.array(array_2d)\n",
    "    dna=dna.astype(str)\n",
    "    elems=np.unique(dna,return_counts=True)[0]\n",
    "    elems=elems.astype(str)\n",
    "    cons=[] \n",
    "    consent={el:[] for el in elems}\n",
    "    for el in elems : \n",
    "        for col in range(dna.shape[1]):\n",
    "            consent[el].append(np.count_nonzero(dna[:,col]==el))\n",
    "    result = get_consensus(profile)\n",
    "    profile=consent\n",
    "    #print(\"Consensus:\", result)\n",
    "    pixel_consent.append(result.split(','))\n",
    "            \n",
    "\n",
    "\n"
   ]
  },
  {
   "cell_type": "code",
   "execution_count": 402,
   "id": "d882a5d0",
   "metadata": {},
   "outputs": [],
   "source": [
    "pixel_consent=np.array(pixel_consent)"
   ]
  },
  {
   "cell_type": "code",
   "execution_count": 406,
   "id": "51521495",
   "metadata": {},
   "outputs": [
    {
     "data": {
      "text/plain": [
       "(array([' 0', ' 1', ' 10', ' 100', ' 101', ' 102', ' 103', ' 104', ' 105',\n",
       "        ' 106', ' 107', ' 108', ' 109', ' 11', ' 110', ' 111', ' 112',\n",
       "        ' 113', ' 114', ' 115', ' 116', ' 117', ' 118', ' 119', ' 12',\n",
       "        ' 120', ' 121', ' 122', ' 123', ' 124', ' 125', ' 126', ' 127',\n",
       "        ' 128', ' 129', ' 13', ' 130', ' 131', ' 132', ' 133', ' 134',\n",
       "        ' 135', ' 136', ' 137', ' 138', ' 139', ' 14', ' 140', ' 141',\n",
       "        ' 142', ' 143', ' 144', ' 145', ' 146', ' 147', ' 148', ' 149',\n",
       "        ' 15', ' 150', ' 151', ' 152', ' 153', ' 154', ' 155', ' 156',\n",
       "        ' 157', ' 158', ' 159', ' 16', ' 160', ' 161', ' 162', ' 163',\n",
       "        ' 164', ' 165', ' 166', ' 167', ' 168', ' 169', ' 17', ' 170',\n",
       "        ' 171', ' 172', ' 173', ' 174', ' 175', ' 176', ' 177', ' 178',\n",
       "        ' 179', ' 18', ' 180', ' 181', ' 182', ' 183', ' 184', ' 185',\n",
       "        ' 186', ' 187', ' 188', ' 189', ' 190', ' 191', ' 192', ' 194',\n",
       "        ' 195', ' 196', ' 197', ' 198', ' 199', ' 2', ' 20', ' 201',\n",
       "        ' 202', ' 203', ' 204', ' 205', ' 206', ' 207', ' 208', ' 21',\n",
       "        ' 210', ' 211', ' 213', ' 214', ' 215', ' 216', ' 22', ' 220',\n",
       "        ' 221', ' 223', ' 225', ' 226', ' 228', ' 23', ' 230', ' 231',\n",
       "        ' 234', ' 236', ' 240', ' 242', ' 244', ' 245', ' 247', ' 248',\n",
       "        ' 249', ' 25', ' 250', ' 251', ' 252', ' 253', ' 254', ' 255',\n",
       "        ' 26', ' 42', ' 44', ' 46', ' 47', ' 48', ' 49', ' 50', ' 53',\n",
       "        ' 54', ' 55', ' 57', ' 59', ' 61', ' 62', ' 64', ' 65', ' 66',\n",
       "        ' 67', ' 68', ' 69', ' 71', ' 73', ' 74', ' 75', ' 76', ' 77',\n",
       "        ' 78', ' 79', ' 80', ' 82', ' 84', ' 85', ' 87', ' 89', ' 92',\n",
       "        ' 93', ' 95', ' 96', ' 98', ' 99', '101', '102', '104', '105',\n",
       "        '106', '108', '109', '110', '111', '113', '114', '115', '116',\n",
       "        '117', '118', '119', '122', '125', '127', '129', '130', '133',\n",
       "        '135', '136', '137', '140', '142', '156', '171', '176', '179',\n",
       "        '217', '250', '255'], dtype='<U4'),\n",
       " array([   10,     8,     7,    69,    54,    68,    52,    59,    41,\n",
       "           50,    48,    53,    51,    11,    43,    49,    40,    46,\n",
       "           32,    41,    43,    31,    29,    33,     4,    26,    29,\n",
       "           35,    27,    34,    26,    24,    27,    28,    20,     3,\n",
       "           21,    21,    16,    15,    24,    21,    10,    13,    10,\n",
       "            9,     4,    10,     7,    14,     6,    13,    13,     8,\n",
       "           10,    11,     4,     5,    10,     7,     4,     5,     6,\n",
       "           14,     7,     6,     7,     8,     3,     3,     6,     7,\n",
       "            5,     5,     3,     5,     6,     4,     6,     3,     4,\n",
       "            5,     1,     7,     2,     7,     2,     5,     6,     4,\n",
       "            2,     7,     1,     3,     6,     1,     5,     4,     6,\n",
       "            4,     3,     1,     3,     1,     2,     2,     4,     1,\n",
       "            1,     1,     3,     2,     1,     1,     1,     1,     1,\n",
       "            1,     3,     2,     2,     1,     1,     3,     1,     3,\n",
       "            1,     2,     1,     1,     1,     2,     2,     2,     2,\n",
       "            1,     1,     2,     1,     1,     1,     1,     2,     3,\n",
       "            2,     2,     2,     2,     7,    11,     9,     6, 14157,\n",
       "            1,     2,     1,     1,     1,     1,     1,     3,     1,\n",
       "            1,     1,     1,     1,     2,     1,     1,     2,     1,\n",
       "            1,     4,     1,     2,     2,     2,     3,     3,     3,\n",
       "            3,     3,     1,     2,     1,     1,     3,     1,     1,\n",
       "            1,     2,     1,     1,     1,     1,     1,     1,     1,\n",
       "            1,     1,     1,     1,     4,     2,     3,     1,     3,\n",
       "            2,     2,     1,     2,     2,     2,     2,     2,     1,\n",
       "            2,     1,     2,     1,     1,     1,     1,     1,     1,\n",
       "            1,     1,   205], dtype=int64))"
      ]
     },
     "execution_count": 406,
     "metadata": {},
     "output_type": "execute_result"
    }
   ],
   "source": [
    "np.unique(pixel_consent,return_counts=True)"
   ]
  },
  {
   "cell_type": "code",
   "execution_count": 395,
   "id": "a09a6732",
   "metadata": {},
   "outputs": [
    {
     "data": {
      "text/plain": [
       "'118, 100, 102, 113, 102, 108, 100, 112, 108, 141, 255, 127, 119, 255, 255, 255, 135, 107, 132, 128, 255, 255, 255, 255, 105, 106, 115, 100, 102, 115, 123, 255, 255, 255, 255, 255, 255, 255, 255, 255, 255, 255, 255, 255, 255, 255, 255, 255, 255, 255, 255, 255, 255, 255, 255, 255, 112, 255, 255, 255, 255, 110, 139, 126'"
      ]
     },
     "execution_count": 395,
     "metadata": {},
     "output_type": "execute_result"
    }
   ],
   "source": [
    "pixel_consent=np.array(pixel_consent)\n",
    "pixel_consent[121]"
   ]
  },
  {
   "cell_type": "code",
   "execution_count": 364,
   "id": "10c02d51",
   "metadata": {},
   "outputs": [
    {
     "data": {
      "text/plain": [
       "array(['255'], dtype='<U3')"
      ]
     },
     "execution_count": 364,
     "metadata": {},
     "output_type": "execute_result"
    }
   ],
   "source": [
    "elems=np.unique(dna,return_counts=True)[0]\n",
    "elems\n",
    "elems=elems.astype(str)\n",
    "elems"
   ]
  },
  {
   "cell_type": "code",
   "execution_count": 365,
   "id": "795378d5",
   "metadata": {},
   "outputs": [],
   "source": [
    "cons=[] \n",
    "consent={el:[] for el in elems}\n",
    "for el in elems : \n",
    "     \n",
    "    for col in range(dna.shape[1]):\n",
    "        consent[el].append(np.count_nonzero(dna[:,col]==el))\n",
    "        consent    \n",
    "\n"
   ]
  },
  {
   "cell_type": "code",
   "execution_count": 366,
   "id": "7ca0ecdb",
   "metadata": {},
   "outputs": [
    {
     "data": {
      "text/plain": [
       "array(['255', '255', '255', '255', '255', '255', '255', '255'],\n",
       "      dtype='<U3')"
      ]
     },
     "execution_count": 366,
     "metadata": {},
     "output_type": "execute_result"
    }
   ],
   "source": [
    "dna[:,col]"
   ]
  },
  {
   "cell_type": "code",
   "execution_count": 367,
   "id": "cf8f2557",
   "metadata": {},
   "outputs": [
    {
     "name": "stdout",
     "output_type": "stream",
     "text": [
      "255: 8 8 8 8 8 8 8 8 8 8 8 8 8 8 8 8 8 8 8 8 8 8 8 8 8 8 8 8 8 8 8 8 8 8 8 8 8 8 8 8 8 8 8 8 8 8 8 8 8 8 8 8 8 8 8 8 8 8 8 8 8 8 8 8\n"
     ]
    }
   ],
   "source": [
    "# Iterate over each key-value pair dynamically.\n",
    "for key, values in consent.items():\n",
    "    # Create a string from the list of values.\n",
    "    values_str = \" \".join(str(num) for num in values)\n",
    "    print(f\"{key}: {values_str}\")"
   ]
  },
  {
   "cell_type": "code",
   "execution_count": 374,
   "id": "2c149a30",
   "metadata": {},
   "outputs": [
    {
     "name": "stdout",
     "output_type": "stream",
     "text": [
      "Consensus: 255, 255, 255, 255, 255, 255, 255, 255, 255, 255, 255, 255, 255, 255, 255, 255, 255, 255, 255, 255, 255, 255, 255, 255, 255, 255, 255, 255, 255, 255, 255, 255, 255, 255, 255, 255, 255, 255, 255, 255, 255, 255, 255, 255, 255, 255, 255, 255, 255, 255, 255, 255, 255, 255, 255, 255, 255, 255, 255, 255, 255, 255, 255, 255\n"
     ]
    }
   ],
   "source": [
    "profile=consent\n",
    "def get_consensus(profile):\n",
    "    # Check if the profile dictionary is empty.\n",
    "    if not profile:\n",
    "        print(\"The profile matrix is empty!\")\n",
    "        return \"\"\n",
    "    \n",
    "    # Determine the number of columns. Assumes all lists have the same length.\n",
    "    num_columns = len(next(iter(profile.values())))\n",
    "    consensus_list = []  # This will hold the chosen pixel value for each column.\n",
    "    \n",
    "    # Process each column separately.\n",
    "    for i in range(num_columns):\n",
    "        # Build a dictionary for the current column: pixel_value => count.\n",
    "        column_counts = {pixel: profile[pixel][i] for pixel in profile}\n",
    "        \n",
    "        # Determine the maximum count in the current column.\n",
    "        max_count = max(column_counts.values())\n",
    "        \n",
    "        # Get all pixel_values that have the max count.\n",
    "        max_pixels = [pixel for pixel, count in column_counts.items() if count == max_count]\n",
    "        \n",
    "        # If there's more than one (a tie), choose the smallest pixel value.\n",
    "        chosen_pixel = sorted(max_pixels)[0]\n",
    "        \n",
    "        # Append the chosen value.\n",
    "        consensus_list.append(chosen_pixel)\n",
    "    \n",
    "    # Return the consensus as a comma-separated string.\n",
    "    return ', '.join(map(str, consensus_list))\n",
    "\n",
    "\n",
    "# Example usage:\n",
    "# Assume your profile is a dictionary where the keys are pixel values (for example, 0, 128, 255)\n",
    "# and each key maps to a list of counts (one per \"column\" or pixel position).\n",
    "# For demonstration, here is a sample profile matrix:\n",
    " \n",
    "\n",
    "# Now we compute the consensus from the profile.\n",
    "result = get_consensus(profile)\n",
    "print(\"Consensus:\", result)"
   ]
  },
  {
   "cell_type": "code",
   "execution_count": 369,
   "id": "d37690b2",
   "metadata": {},
   "outputs": [
    {
     "data": {
      "text/plain": [
       "'255, 255, 255, 255, 255, 255, 255, 255, 255, 255, 255, 255, 255, 255, 255, 255, 255, 255, 255, 255, 255, 255, 255, 255, 255, 255, 255, 255, 255, 255, 255, 255, 255, 255, 255, 255, 255, 255, 255, 255, 255, 255, 255, 255, 255, 255, 255, 255, 255, 255, 255, 255, 255, 255, 255, 255, 255, 255, 255, 255, 255, 255, 255, 255'"
      ]
     },
     "execution_count": 369,
     "metadata": {},
     "output_type": "execute_result"
    }
   ],
   "source": [
    "result"
   ]
  },
  {
   "cell_type": "code",
   "execution_count": 376,
   "id": "acf27cb0",
   "metadata": {},
   "outputs": [
    {
     "data": {
      "text/plain": [
       "array([[255, 255, 255, ..., 255, 255, 255],\n",
       "       [255, 255, 255, ..., 255, 255, 255],\n",
       "       [255, 255, 255, ..., 255, 255, 255],\n",
       "       ...,\n",
       "       [255, 255, 255, ..., 255, 255, 255],\n",
       "       [255, 255, 255, ..., 255, 255, 255],\n",
       "       [255, 255, 255, ..., 255, 255, 255]], dtype=uint8)"
      ]
     },
     "execution_count": 376,
     "metadata": {},
     "output_type": "execute_result"
    }
   ],
   "source": [
    "img\n"
   ]
  },
  {
   "cell_type": "code",
   "execution_count": 323,
   "id": "e6e99995",
   "metadata": {},
   "outputs": [
    {
     "data": {
      "text/plain": [
       "['255',\n",
       " ' 255',\n",
       " ' 255',\n",
       " ' 255',\n",
       " ' 255',\n",
       " ' 255',\n",
       " ' 255',\n",
       " ' 255',\n",
       " ' 255',\n",
       " ' 255',\n",
       " ' 255',\n",
       " ' 255',\n",
       " ' 255',\n",
       " ' 255',\n",
       " ' 255',\n",
       " ' 255',\n",
       " ' 255',\n",
       " ' 255',\n",
       " ' 255',\n",
       " ' 255',\n",
       " ' 255',\n",
       " ' 255',\n",
       " ' 255',\n",
       " ' 255',\n",
       " ' 255',\n",
       " ' 255',\n",
       " ' 255',\n",
       " ' 255',\n",
       " ' 255',\n",
       " ' 255',\n",
       " ' 255',\n",
       " ' 255',\n",
       " ' 255',\n",
       " ' 255',\n",
       " ' 255',\n",
       " ' 255',\n",
       " ' 255',\n",
       " ' 255',\n",
       " ' 255',\n",
       " ' 255',\n",
       " ' 255',\n",
       " ' 255',\n",
       " ' 255',\n",
       " ' 255',\n",
       " ' 255',\n",
       " ' 255',\n",
       " ' 255',\n",
       " ' 255',\n",
       " ' 255',\n",
       " ' 255',\n",
       " ' 255',\n",
       " ' 255',\n",
       " ' 255',\n",
       " ' 255',\n",
       " ' 255',\n",
       " ' 255',\n",
       " ' 255',\n",
       " ' 255',\n",
       " ' 255',\n",
       " ' 255',\n",
       " ' 255',\n",
       " ' 255',\n",
       " ' 255',\n",
       " ' 255']"
      ]
     },
     "execution_count": 323,
     "metadata": {},
     "output_type": "execute_result"
    }
   ],
   "source": [
    "result.split(',')"
   ]
  },
  {
   "cell_type": "code",
   "execution_count": 349,
   "id": "e3922cb6",
   "metadata": {},
   "outputs": [
    {
     "name": "stdout",
     "output_type": "stream",
     "text": [
      "Consensus: 104, 107, 103, 117, 112, 101, 102, 111, 109, 140, 140, 255, 126, 102, 137, 108, 255, 255, 255, 123, 107, 101, 100, 100, 115, 100, 111, 113, 107, 113, 114, 130, 255, 255, 255, 255, 255, 255, 255, 255, 255, 255, 255, 255, 255, 255, 255, 255, 255, 255, 255, 255, 255, 255, 255, 255, 105, 255, 154, 255, 255, 106, 134, 131\n"
     ]
    }
   ],
   "source": [
    " \n",
    "    #for row in range(img.shape[0]):\n",
    "    \n",
    "    #img=cv2.cvtColor(img, cv2.COLOR_RGB2GRAY)\n",
    "    arrany_np=img[13,:]\n",
    "    array_2d = array_np.reshape(8, 64)\n",
    "    \n",
    "    dna=np.array(array_2d)\n",
    "    dna=dna.astype(str)\n",
    " \n",
    "    elems=np.unique(dna,return_counts=True)[0]\n",
    "    elems=elems.astype(str)\n",
    "    consent={el:[] for el in elems}\n",
    "    for el in elems : \n",
    "        for col in range(dna.shape[1]):\n",
    "            consent[el].append(np.count_nonzero(dna[:,col]==el))\n",
    "    profile=consent\n",
    "    result = get_consensus(profile)\n",
    "    print(\"Consensus:\", result)\n",
    "    dna_consent.append(result.split(','))\n",
    "  \n",
    "\n",
    "\n",
    "\n",
    "    "
   ]
  },
  {
   "cell_type": "code",
   "execution_count": 302,
   "id": "4de441ab",
   "metadata": {},
   "outputs": [
    {
     "data": {
      "text/plain": [
       "(256, 64)"
      ]
     },
     "execution_count": 302,
     "metadata": {},
     "output_type": "execute_result"
    }
   ],
   "source": [
    "np.array(dna_consent).shape"
   ]
  },
  {
   "cell_type": "code",
   "execution_count": 234,
   "id": "4289b838",
   "metadata": {},
   "outputs": [
    {
     "data": {
      "text/plain": [
       "array([255, 255, 255, 255, 255, 255, 255, 255, 255, 255, 255, 255, 255,\n",
       "       255, 255, 255, 255, 255, 255, 255, 255, 255, 255, 255, 255, 255,\n",
       "       255, 255, 255, 255, 255, 255, 255, 255, 255, 255, 255, 255, 255,\n",
       "       255, 255, 255, 255, 255, 255, 255, 255, 255, 255, 255, 255, 255,\n",
       "       255, 255, 255, 255, 255, 255, 255, 255, 255, 255, 255, 255, 255,\n",
       "       255, 255, 255, 255, 255, 255, 255, 255, 255, 255, 255, 255, 255,\n",
       "       255, 255, 255, 255, 255, 255, 255, 255, 255, 255, 255, 255, 255,\n",
       "       255, 255, 255, 255, 255, 255, 255, 255, 255, 255, 255, 255, 255,\n",
       "       255, 255, 255, 255, 255, 255, 255, 255, 255, 255, 255, 255, 255,\n",
       "       255, 255, 255, 255, 255, 255, 255, 255, 255, 255, 255, 255, 255,\n",
       "       255, 255, 255, 255, 255, 255, 255, 255, 255, 255, 255, 255, 255,\n",
       "       255, 255, 255, 255, 255, 255, 255, 255, 255, 255, 255, 255, 255,\n",
       "       255, 255, 255, 255, 255, 255, 255, 255, 255, 255, 255, 255, 255,\n",
       "       255, 255, 255, 255, 255, 255, 255, 255, 255, 255, 255, 255, 255,\n",
       "       255, 255, 255, 255, 255, 255, 255, 255, 255, 255, 255, 255, 255,\n",
       "       255, 255, 255, 255, 255, 255, 255, 255, 255, 255, 255, 255, 255,\n",
       "       255, 255, 255, 255, 255, 255, 255, 255, 255, 255, 255, 255, 255,\n",
       "       255, 255, 255, 255, 255, 255, 255, 255, 255, 255, 255, 255, 255,\n",
       "       255, 255, 255, 255, 255, 255, 255, 255, 255, 255, 255, 255, 255,\n",
       "       255, 255, 255, 255, 255, 255, 255, 255, 255, 255, 255, 255, 255,\n",
       "       255, 255, 255, 255, 255, 255, 255, 255, 255, 255, 255, 255, 255,\n",
       "       255, 255, 255, 255, 255, 255, 255, 255, 255, 255, 255, 255, 255,\n",
       "       255, 255, 255, 255, 255, 255, 255, 255, 255, 255, 255, 255, 255,\n",
       "       255, 255, 255, 255, 255, 255, 255, 255, 255, 255, 255, 255, 255,\n",
       "       255, 255, 255, 255, 255, 255, 255, 255, 255, 255, 255, 255, 255,\n",
       "       255, 255, 255, 255, 255, 255, 255, 255, 255, 255, 255, 255, 255,\n",
       "       255, 255, 255, 255, 255, 255, 255, 255, 255, 255, 255, 255, 255,\n",
       "       255, 255, 255, 255, 255, 255, 255, 255, 255, 255, 255, 255, 255,\n",
       "       255, 255, 255, 255, 255, 255, 255, 255, 255, 255, 255, 255, 255,\n",
       "       255, 255, 255, 255, 255, 255, 255, 255, 255, 255, 255, 255, 255,\n",
       "       255, 255, 255, 255, 255, 255, 255, 255, 255, 255, 255, 255, 255,\n",
       "       255, 255, 255, 255, 255, 255, 255, 255, 255, 255, 255, 255, 255,\n",
       "       255, 255, 255, 255, 255, 255, 255, 255, 255, 255, 255, 255, 255,\n",
       "       255, 255, 255, 255, 255, 255, 255, 255, 255, 255, 255, 255, 255,\n",
       "       255, 255, 255, 255, 255, 255, 255, 255, 255, 255, 255, 255, 255,\n",
       "       255, 255, 255, 255, 255, 255, 255, 255, 255, 255, 255, 255, 255,\n",
       "       255, 255, 255, 255, 255, 255, 255, 255, 255, 255, 255, 255, 255,\n",
       "       255, 255, 255, 255, 255, 255, 255, 255, 255, 255, 255, 255, 255,\n",
       "       255, 255, 255, 255, 255, 255, 255, 255, 255, 255, 255, 255, 255,\n",
       "       255, 255, 255, 255, 255], dtype=uint8)"
      ]
     },
     "execution_count": 234,
     "metadata": {},
     "output_type": "execute_result"
    }
   ],
   "source": [
    "    row=1\n",
    "    array_np=img[row,:]\n",
    "    array_2d = array_np.reshape(8, 64)\n",
    "    array_np"
   ]
  },
  {
   "cell_type": "code",
   "execution_count": 293,
   "id": "26485f56",
   "metadata": {},
   "outputs": [
    {
     "data": {
      "text/plain": [
       "256"
      ]
     },
     "execution_count": 293,
     "metadata": {},
     "output_type": "execute_result"
    }
   ],
   "source": [
    "img.shape[0]"
   ]
  },
  {
   "cell_type": "code",
   "execution_count": null,
   "id": "ecca2302",
   "metadata": {},
   "outputs": [],
   "source": []
  }
 ],
 "metadata": {
  "kernelspec": {
   "display_name": "Python 3 (ipykernel)",
   "language": "python",
   "name": "python3"
  },
  "language_info": {
   "codemirror_mode": {
    "name": "ipython",
    "version": 3
   },
   "file_extension": ".py",
   "mimetype": "text/x-python",
   "name": "python",
   "nbconvert_exporter": "python",
   "pygments_lexer": "ipython3",
   "version": "3.10.9"
  }
 },
 "nbformat": 4,
 "nbformat_minor": 5
}
